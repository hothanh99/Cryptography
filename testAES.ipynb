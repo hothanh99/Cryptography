{
 "cells": [
  {
   "cell_type": "code",
   "execution_count": 1,
   "metadata": {},
   "outputs": [],
   "source": [
    "from AES import *\n"
   ]
  },
  {
   "cell_type": "markdown",
   "metadata": {},
   "source": [
    "<h1 style=\"color:BLUE\">I. INPUT </h1>"
   ]
  },
  {
   "cell_type": "markdown",
   "metadata": {},
   "source": [
    "<h1 style=\"color:BLUE\">I.1. Input Plaintext  </h1>"
   ]
  },
  {
   "cell_type": "code",
   "execution_count": 2,
   "metadata": {},
   "outputs": [],
   "source": [
    "#Đọc Plaintext từ file\n",
    "with open(\"Plaintext.txt\",\"r\") as input:\n",
    "    Plaintext=input.read()       "
   ]
  },
  {
   "cell_type": "code",
   "execution_count": 3,
   "metadata": {},
   "outputs": [
    {
     "data": {
      "text/plain": [
       "'Toi yeu tieng nuoc toi\\nTu khi moi ra doi nguoi oi\\nMe hien ru nhung cau xa xoi\\nA a oi, tieng ru muon doi.\\n\\nTieng nuoc toi, bon ngan nam rong ra vui buon\\nKhoc cuoi theo menh nuoc noi  troi, nuoc oi\\nTieng nuoc toi, tieng me sinh tu luc nam noi\\nThoat ngan nam thanh tieng long toi, nuoc oi.\\n\\nToi yeu tieng ngang troi\\nNhung cau ho gian hon khon nguoi\\nNho nhung hoai manh tinh xa xoi\\nVung tin vao mong dep ngay mai.\\n\\nMot yeu cau hat Truyen Kieu lang lo\\nNhu tieng sao dieu, dieu lang ta\\nVa yeu co gai ben nha\\nMieng xinh an noi man ma, ma co duyen.'"
      ]
     },
     "execution_count": 3,
     "metadata": {},
     "output_type": "execute_result"
    }
   ],
   "source": [
    "Plaintext"
   ]
  },
  {
   "cell_type": "code",
   "execution_count": 4,
   "metadata": {},
   "outputs": [],
   "source": [
    "#Chèn kí tự để được các khối plaintext đầu vào 16byte\n",
    "Plaintext=padData(Plaintext)"
   ]
  },
  {
   "cell_type": "code",
   "execution_count": 5,
   "metadata": {},
   "outputs": [
    {
     "data": {
      "text/plain": [
       "'Toi yeu tieng nuoc toi\\nTu khi moi ra doi nguoi oi\\nMe hien ru nhung cau xa xoi\\nA a oi, tieng ru muon doi.\\n\\nTieng nuoc toi, bon ngan nam rong ra vui buon\\nKhoc cuoi theo menh nuoc noi  troi, nuoc oi\\nTieng nuoc toi, tieng me sinh tu luc nam noi\\nThoat ngan nam thanh tieng long toi, nuoc oi.\\n\\nToi yeu tieng ngang troi\\nNhung cau ho gian hon khon nguoi\\nNho nhung hoai manh tinh xa xoi\\nVung tin vao mong dep ngay mai.\\n\\nMot yeu cau hat Truyen Kieu lang lo\\nNhu tieng sao dieu, dieu lang ta\\nVa yeu co gai ben nha\\nMieng xinh an noi man ma, ma co duyen.0000'"
      ]
     },
     "execution_count": 5,
     "metadata": {},
     "output_type": "execute_result"
    }
   ],
   "source": [
    "Plaintext"
   ]
  },
  {
   "cell_type": "code",
   "execution_count": 6,
   "metadata": {},
   "outputs": [
    {
     "data": {
      "text/plain": [
       "544"
      ]
     },
     "execution_count": 6,
     "metadata": {},
     "output_type": "execute_result"
    }
   ],
   "source": [
    "len(Plaintext)"
   ]
  },
  {
   "cell_type": "code",
   "execution_count": 7,
   "metadata": {},
   "outputs": [
    {
     "name": "stdout",
     "output_type": "stream",
     "text": [
      "['Toi yeu tieng nu', 'oc toi\\nTu khi mo', 'i ra doi nguoi o', 'i\\nMe hien ru nhu', 'ng cau xa xoi\\nA ', 'a oi, tieng ru m', 'uon doi.\\n\\nTieng ', 'nuoc toi, bon ng', 'an nam rong ra v', 'ui buon\\nKhoc cuo', 'i theo menh nuoc', ' noi  troi, nuoc', ' oi\\nTieng nuoc t', 'oi, tieng me sin', 'h tu luc nam noi', '\\nThoat ngan nam ', 'thanh tieng long', ' toi, nuoc oi.\\n\\n', 'Toi yeu tieng ng', 'ang troi\\nNhung c', 'au ho gian hon k', 'hon nguoi\\nNho nh', 'ung hoai manh ti', 'nh xa xoi\\nVung t', 'in vao mong dep ', 'ngay mai.\\n\\nMot y', 'eu cau hat Truye', 'n Kieu lang lo\\nN', 'hu tieng sao die', 'u, dieu lang ta\\n', 'Va yeu co gai be', 'n nha\\nMieng xinh', ' an noi man ma, ', 'ma co duyen.0000']\n"
     ]
    }
   ],
   "source": [
    "PlainText_List = []\n",
    "n  = 16\n",
    "for i in range(0, len(Plaintext), n):\n",
    "    PlainText_List.append(Plaintext[i : i + n])\n",
    "print(PlainText_List)"
   ]
  },
  {
   "cell_type": "code",
   "execution_count": 8,
   "metadata": {},
   "outputs": [
    {
     "data": {
      "text/plain": [
       "34"
      ]
     },
     "execution_count": 8,
     "metadata": {},
     "output_type": "execute_result"
    }
   ],
   "source": [
    "len(PlainText_List)"
   ]
  },
  {
   "cell_type": "code",
   "execution_count": 9,
   "metadata": {
    "scrolled": true
   },
   "outputs": [],
   "source": [
    "text_hex = []\n",
    "for i in range(len(PlainText_List)):    \n",
    "    text_hex.append(int(PlainText_List[i].encode(\"utf-8\").hex(),16))\n"
   ]
  },
  {
   "cell_type": "code",
   "execution_count": 10,
   "metadata": {},
   "outputs": [
    {
     "name": "stdout",
     "output_type": "stream",
     "text": [
      "text_hext 1 : 546f6920796575207469656e67206e75\n",
      "text_hext 2 : 6f6320746f690a5475206b6869206d6f\n",
      "text_hext 3 : 6920726120646f69206e67756f69206f\n",
      "text_hext 4 : 690a4d65206869656e207275206e6875\n",
      "text_hext 5 : 6e672063617520786120786f690a4120\n",
      "text_hext 6 : 61206f692c207469656e67207275206d\n",
      "text_hext 7 : 756f6e20646f692e0a0a5469656e6720\n",
      "text_hext 8 : 6e756f6320746f692c20626f6e206e67\n",
      "text_hext 9 : 616e206e616d20726f6e672072612076\n",
      "text_hext 10 : 75692062756f6e0a4b686f632063756f\n",
      "text_hext 11 : 69207468656f206d656e68206e756f63\n",
      "text_hext 12 : 206e6f69202074726f692c206e756f63\n",
      "text_hext 13 : 206f690a5469656e67206e756f632074\n",
      "text_hext 14 : 6f692c207469656e67206d652073696e\n",
      "text_hext 15 : 68207475206c7563206e616d206e6f69\n",
      "text_hext 16 : 0a54686f6174206e67616e206e616d20\n",
      "text_hext 17 : 7468616e68207469656e67206c6f6e67\n",
      "text_hext 18 : 20746f692c206e756f63206f692e0a0a\n",
      "text_hext 19 : 546f6920796575207469656e67206e67\n",
      "text_hext 20 : 616e672074726f690a4e68756e672063\n",
      "text_hext 21 : 617520686f206769616e20686f6e206b\n",
      "text_hext 22 : 686f6e206e67756f690a4e686f206e68\n",
      "text_hext 23 : 756e6720686f6169206d616e68207469\n",
      "text_hext 24 : 6e6820786120786f690a56756e672074\n",
      "text_hext 25 : 696e2076616f206d6f6e672064657020\n",
      "text_hext 26 : 6e676179206d61692e0a0a4d6f742079\n",
      "text_hext 27 : 65752063617520686174205472757965\n",
      "text_hext 28 : 6e204b696575206c616e67206c6f0a4e\n",
      "text_hext 29 : 6875207469656e672073616f20646965\n",
      "text_hext 30 : 752c2064696575206c616e672074610a\n",
      "text_hext 31 : 56612079657520636f20676169206265\n",
      "text_hext 32 : 6e206e68610a4d69656e672078696e68\n",
      "text_hext 33 : 20616e206e6f69206d616e206d612c20\n",
      "text_hext 34 : 6d6120636f20647579656e2e30303030\n"
     ]
    }
   ],
   "source": [
    "# in ra text_hex dưới dạng hex\n",
    "for i in range(len(text_hex)):\n",
    "     print('text_hext',i+1,':',hex(text_hex[i])[2:].zfill(32))"
   ]
  },
  {
   "cell_type": "code",
   "execution_count": 11,
   "metadata": {},
   "outputs": [],
   "source": [
    "List_matrix_text = []\n",
    "for i in range(len(text_hex)):\n",
    "    List_matrix_text.append(text2matrix(text_hex[i]))\n"
   ]
  },
  {
   "cell_type": "code",
   "execution_count": 12,
   "metadata": {},
   "outputs": [
    {
     "data": {
      "text/plain": [
       "[[['0x54', '0x6f', '0x69', '0x20'],\n",
       "  ['0x79', '0x65', '0x75', '0x20'],\n",
       "  ['0x74', '0x69', '0x65', '0x6e'],\n",
       "  ['0x67', '0x20', '0x6e', '0x75']],\n",
       " [['0x6f', '0x63', '0x20', '0x74'],\n",
       "  ['0x6f', '0x69', '0xa', '0x54'],\n",
       "  ['0x75', '0x20', '0x6b', '0x68'],\n",
       "  ['0x69', '0x20', '0x6d', '0x6f']],\n",
       " [['0x69', '0x20', '0x72', '0x61'],\n",
       "  ['0x20', '0x64', '0x6f', '0x69'],\n",
       "  ['0x20', '0x6e', '0x67', '0x75'],\n",
       "  ['0x6f', '0x69', '0x20', '0x6f']],\n",
       " [['0x69', '0xa', '0x4d', '0x65'],\n",
       "  ['0x20', '0x68', '0x69', '0x65'],\n",
       "  ['0x6e', '0x20', '0x72', '0x75'],\n",
       "  ['0x20', '0x6e', '0x68', '0x75']],\n",
       " [['0x6e', '0x67', '0x20', '0x63'],\n",
       "  ['0x61', '0x75', '0x20', '0x78'],\n",
       "  ['0x61', '0x20', '0x78', '0x6f'],\n",
       "  ['0x69', '0xa', '0x41', '0x20']],\n",
       " [['0x61', '0x20', '0x6f', '0x69'],\n",
       "  ['0x2c', '0x20', '0x74', '0x69'],\n",
       "  ['0x65', '0x6e', '0x67', '0x20'],\n",
       "  ['0x72', '0x75', '0x20', '0x6d']],\n",
       " [['0x75', '0x6f', '0x6e', '0x20'],\n",
       "  ['0x64', '0x6f', '0x69', '0x2e'],\n",
       "  ['0xa', '0xa', '0x54', '0x69'],\n",
       "  ['0x65', '0x6e', '0x67', '0x20']],\n",
       " [['0x6e', '0x75', '0x6f', '0x63'],\n",
       "  ['0x20', '0x74', '0x6f', '0x69'],\n",
       "  ['0x2c', '0x20', '0x62', '0x6f'],\n",
       "  ['0x6e', '0x20', '0x6e', '0x67']],\n",
       " [['0x61', '0x6e', '0x20', '0x6e'],\n",
       "  ['0x61', '0x6d', '0x20', '0x72'],\n",
       "  ['0x6f', '0x6e', '0x67', '0x20'],\n",
       "  ['0x72', '0x61', '0x20', '0x76']],\n",
       " [['0x75', '0x69', '0x20', '0x62'],\n",
       "  ['0x75', '0x6f', '0x6e', '0xa'],\n",
       "  ['0x4b', '0x68', '0x6f', '0x63'],\n",
       "  ['0x20', '0x63', '0x75', '0x6f']],\n",
       " [['0x69', '0x20', '0x74', '0x68'],\n",
       "  ['0x65', '0x6f', '0x20', '0x6d'],\n",
       "  ['0x65', '0x6e', '0x68', '0x20'],\n",
       "  ['0x6e', '0x75', '0x6f', '0x63']],\n",
       " [['0x20', '0x6e', '0x6f', '0x69'],\n",
       "  ['0x20', '0x20', '0x74', '0x72'],\n",
       "  ['0x6f', '0x69', '0x2c', '0x20'],\n",
       "  ['0x6e', '0x75', '0x6f', '0x63']],\n",
       " [['0x20', '0x6f', '0x69', '0xa'],\n",
       "  ['0x54', '0x69', '0x65', '0x6e'],\n",
       "  ['0x67', '0x20', '0x6e', '0x75'],\n",
       "  ['0x6f', '0x63', '0x20', '0x74']],\n",
       " [['0x6f', '0x69', '0x2c', '0x20'],\n",
       "  ['0x74', '0x69', '0x65', '0x6e'],\n",
       "  ['0x67', '0x20', '0x6d', '0x65'],\n",
       "  ['0x20', '0x73', '0x69', '0x6e']],\n",
       " [['0x68', '0x20', '0x74', '0x75'],\n",
       "  ['0x20', '0x6c', '0x75', '0x63'],\n",
       "  ['0x20', '0x6e', '0x61', '0x6d'],\n",
       "  ['0x20', '0x6e', '0x6f', '0x69']],\n",
       " [['0xa', '0x54', '0x68', '0x6f'],\n",
       "  ['0x61', '0x74', '0x20', '0x6e'],\n",
       "  ['0x67', '0x61', '0x6e', '0x20'],\n",
       "  ['0x6e', '0x61', '0x6d', '0x20']],\n",
       " [['0x74', '0x68', '0x61', '0x6e'],\n",
       "  ['0x68', '0x20', '0x74', '0x69'],\n",
       "  ['0x65', '0x6e', '0x67', '0x20'],\n",
       "  ['0x6c', '0x6f', '0x6e', '0x67']],\n",
       " [['0x20', '0x74', '0x6f', '0x69'],\n",
       "  ['0x2c', '0x20', '0x6e', '0x75'],\n",
       "  ['0x6f', '0x63', '0x20', '0x6f'],\n",
       "  ['0x69', '0x2e', '0xa', '0xa']],\n",
       " [['0x54', '0x6f', '0x69', '0x20'],\n",
       "  ['0x79', '0x65', '0x75', '0x20'],\n",
       "  ['0x74', '0x69', '0x65', '0x6e'],\n",
       "  ['0x67', '0x20', '0x6e', '0x67']],\n",
       " [['0x61', '0x6e', '0x67', '0x20'],\n",
       "  ['0x74', '0x72', '0x6f', '0x69'],\n",
       "  ['0xa', '0x4e', '0x68', '0x75'],\n",
       "  ['0x6e', '0x67', '0x20', '0x63']],\n",
       " [['0x61', '0x75', '0x20', '0x68'],\n",
       "  ['0x6f', '0x20', '0x67', '0x69'],\n",
       "  ['0x61', '0x6e', '0x20', '0x68'],\n",
       "  ['0x6f', '0x6e', '0x20', '0x6b']],\n",
       " [['0x68', '0x6f', '0x6e', '0x20'],\n",
       "  ['0x6e', '0x67', '0x75', '0x6f'],\n",
       "  ['0x69', '0xa', '0x4e', '0x68'],\n",
       "  ['0x6f', '0x20', '0x6e', '0x68']],\n",
       " [['0x75', '0x6e', '0x67', '0x20'],\n",
       "  ['0x68', '0x6f', '0x61', '0x69'],\n",
       "  ['0x20', '0x6d', '0x61', '0x6e'],\n",
       "  ['0x68', '0x20', '0x74', '0x69']],\n",
       " [['0x6e', '0x68', '0x20', '0x78'],\n",
       "  ['0x61', '0x20', '0x78', '0x6f'],\n",
       "  ['0x69', '0xa', '0x56', '0x75'],\n",
       "  ['0x6e', '0x67', '0x20', '0x74']],\n",
       " [['0x69', '0x6e', '0x20', '0x76'],\n",
       "  ['0x61', '0x6f', '0x20', '0x6d'],\n",
       "  ['0x6f', '0x6e', '0x67', '0x20'],\n",
       "  ['0x64', '0x65', '0x70', '0x20']],\n",
       " [['0x6e', '0x67', '0x61', '0x79'],\n",
       "  ['0x20', '0x6d', '0x61', '0x69'],\n",
       "  ['0x2e', '0xa', '0xa', '0x4d'],\n",
       "  ['0x6f', '0x74', '0x20', '0x79']],\n",
       " [['0x65', '0x75', '0x20', '0x63'],\n",
       "  ['0x61', '0x75', '0x20', '0x68'],\n",
       "  ['0x61', '0x74', '0x20', '0x54'],\n",
       "  ['0x72', '0x75', '0x79', '0x65']],\n",
       " [['0x6e', '0x20', '0x4b', '0x69'],\n",
       "  ['0x65', '0x75', '0x20', '0x6c'],\n",
       "  ['0x61', '0x6e', '0x67', '0x20'],\n",
       "  ['0x6c', '0x6f', '0xa', '0x4e']],\n",
       " [['0x68', '0x75', '0x20', '0x74'],\n",
       "  ['0x69', '0x65', '0x6e', '0x67'],\n",
       "  ['0x20', '0x73', '0x61', '0x6f'],\n",
       "  ['0x20', '0x64', '0x69', '0x65']],\n",
       " [['0x75', '0x2c', '0x20', '0x64'],\n",
       "  ['0x69', '0x65', '0x75', '0x20'],\n",
       "  ['0x6c', '0x61', '0x6e', '0x67'],\n",
       "  ['0x20', '0x74', '0x61', '0xa']],\n",
       " [['0x56', '0x61', '0x20', '0x79'],\n",
       "  ['0x65', '0x75', '0x20', '0x63'],\n",
       "  ['0x6f', '0x20', '0x67', '0x61'],\n",
       "  ['0x69', '0x20', '0x62', '0x65']],\n",
       " [['0x6e', '0x20', '0x6e', '0x68'],\n",
       "  ['0x61', '0xa', '0x4d', '0x69'],\n",
       "  ['0x65', '0x6e', '0x67', '0x20'],\n",
       "  ['0x78', '0x69', '0x6e', '0x68']],\n",
       " [['0x20', '0x61', '0x6e', '0x20'],\n",
       "  ['0x6e', '0x6f', '0x69', '0x20'],\n",
       "  ['0x6d', '0x61', '0x6e', '0x20'],\n",
       "  ['0x6d', '0x61', '0x2c', '0x20']],\n",
       " [['0x6d', '0x61', '0x20', '0x63'],\n",
       "  ['0x6f', '0x20', '0x64', '0x75'],\n",
       "  ['0x79', '0x65', '0x6e', '0x2e'],\n",
       "  ['0x30', '0x30', '0x30', '0x30']]]"
      ]
     },
     "execution_count": 12,
     "metadata": {},
     "output_type": "execute_result"
    }
   ],
   "source": [
    "List_matrix_text_hex = []\n",
    "for i in range(len(List_matrix_text)):\n",
    "    List_matrix_text_hex.append([])\n",
    "    for j in range(len(List_matrix_text[i])): \n",
    "        List_matrix_text_hex[i].append([])\n",
    "        for k in range(len(List_matrix_text[i][j])):\n",
    "            List_matrix_text_hex[i][j].append(hex(List_matrix_text[i][j][k]))\n",
    "List_matrix_text_hex   "
   ]
  },
  {
   "cell_type": "markdown",
   "metadata": {},
   "source": [
    "<h1 style=\"color:BLUE\">I.2. Input key </h1>"
   ]
  },
  {
   "cell_type": "code",
   "execution_count": 13,
   "metadata": {},
   "outputs": [],
   "source": [
    "with open(\"CipherKey.txt\",\"r\") as input:\n",
    "    CipherKey=input.read()"
   ]
  },
  {
   "cell_type": "code",
   "execution_count": 14,
   "metadata": {},
   "outputs": [
    {
     "data": {
      "text/plain": [
       "'VietNamDatNuocOi'"
      ]
     },
     "execution_count": 14,
     "metadata": {},
     "output_type": "execute_result"
    }
   ],
   "source": [
    "CipherKey"
   ]
  },
  {
   "cell_type": "code",
   "execution_count": 15,
   "metadata": {},
   "outputs": [
    {
     "data": {
      "text/plain": [
       "'566965744e616d4461744e756f634f69'"
      ]
     },
     "execution_count": 15,
     "metadata": {},
     "output_type": "execute_result"
    }
   ],
   "source": [
    "Cipherkey_hex = int(CipherKey.encode(\"utf-8\").hex(),16)\n",
    "hex(Cipherkey_hex)[2:]"
   ]
  },
  {
   "cell_type": "code",
   "execution_count": 16,
   "metadata": {},
   "outputs": [],
   "source": [
    "Matrix_key = text2matrix(Cipherkey_hex)\n"
   ]
  },
  {
   "cell_type": "code",
   "execution_count": 17,
   "metadata": {},
   "outputs": [
    {
     "data": {
      "text/plain": [
       "[['56', '69', '65', '74'],\n",
       " ['4e', '61', '6d', '44'],\n",
       " ['61', '74', '4e', '75'],\n",
       " ['6f', '63', '4f', '69']]"
      ]
     },
     "execution_count": 17,
     "metadata": {},
     "output_type": "execute_result"
    }
   ],
   "source": [
    "format_hex(Matrix_key)"
   ]
  },
  {
   "cell_type": "code",
   "execution_count": 18,
   "metadata": {},
   "outputs": [
    {
     "data": {
      "text/plain": [
       "[['0x56', '0x69', '0x65', '0x74'],\n",
       " ['0x4e', '0x61', '0x6d', '0x44'],\n",
       " ['0x61', '0x74', '0x4e', '0x75'],\n",
       " ['0x6f', '0x63', '0x4f', '0x69']]"
      ]
     },
     "execution_count": 18,
     "metadata": {},
     "output_type": "execute_result"
    }
   ],
   "source": [
    "Matrix_key_hex=[]\n",
    "for i in range(len(Matrix_key)):\n",
    "    Matrix_key_hex.append([])\n",
    "    for j in range(4):\n",
    "        Matrix_key_hex[i].append(hex(Matrix_key[i][j]))\n",
    "Matrix_key_hex"
   ]
  },
  {
   "cell_type": "markdown",
   "metadata": {},
   "source": [
    "<h1 style=\"color:BLUE\">II. KeyExpansion  </h1>\n",
    "<img align=\"between\" src=\"Key.PNG\" width=\"650\"/>"
   ]
  },
  {
   "cell_type": "code",
   "execution_count": 19,
   "metadata": {},
   "outputs": [],
   "source": [
    "# Khởi tạo 1 đối tượng AES với đầu vào Cipherkey\n",
    "AES = AES(Cipherkey_hex)"
   ]
  },
  {
   "cell_type": "code",
   "execution_count": 20,
   "metadata": {},
   "outputs": [
    {
     "data": {
      "text/plain": [
       "[['0x56', '0x69', '0x65', '0x74'],\n",
       " ['0x4e', '0x61', '0x6d', '0x44'],\n",
       " ['0x61', '0x74', '0x4e', '0x75'],\n",
       " ['0x6f', '0x63', '0x4f', '0x69'],\n",
       " ['0xac', '0xed', '0x9c', '0xdc'],\n",
       " ['0xe2', '0x8c', '0xf1', '0x98'],\n",
       " ['0x83', '0xf8', '0xbf', '0xed'],\n",
       " ['0xec', '0x9b', '0xf0', '0x84'],\n",
       " ['0xba', '0x61', '0xc3', '0x12'],\n",
       " ['0x58', '0xed', '0x32', '0x8a'],\n",
       " ['0xdb', '0x15', '0x8d', '0x67'],\n",
       " ['0x37', '0x8e', '0x7d', '0xe3'],\n",
       " ['0xa7', '0x9e', '0xd2', '0x88'],\n",
       " ['0xff', '0x73', '0xe0', '0x2'],\n",
       " ['0x24', '0x66', '0x6d', '0x65'],\n",
       " ['0x13', '0xe8', '0x10', '0x86'],\n",
       " ['0x34', '0x54', '0x96', '0xf5'],\n",
       " ['0xcb', '0x27', '0x76', '0xf7'],\n",
       " ['0xef', '0x41', '0x1b', '0x92'],\n",
       " ['0xfc', '0xa9', '0xb', '0x14'],\n",
       " ['0xf7', '0x7f', '0x6c', '0x45'],\n",
       " ['0x3c', '0x58', '0x1a', '0xb2'],\n",
       " ['0xd3', '0x19', '0x1', '0x20'],\n",
       " ['0x2f', '0xb0', '0xa', '0x34'],\n",
       " ['0x30', '0x18', '0x74', '0x50'],\n",
       " ['0xc', '0x40', '0x6e', '0xe2'],\n",
       " ['0xdf', '0x59', '0x6f', '0xc2'],\n",
       " ['0xf0', '0xe9', '0x65', '0xf6'],\n",
       " ['0x6e', '0x55', '0x36', '0xdc'],\n",
       " ['0x62', '0x15', '0x58', '0x3e'],\n",
       " ['0xbd', '0x4c', '0x37', '0xfc'],\n",
       " ['0x4d', '0xa5', '0x52', '0xa'],\n",
       " ['0xe8', '0x55', '0x51', '0x3f'],\n",
       " ['0x8a', '0x40', '0x9', '0x1'],\n",
       " ['0x37', '0xc', '0x3e', '0xfd'],\n",
       " ['0x7a', '0xa9', '0x6c', '0xf7'],\n",
       " ['0x20', '0x5', '0x39', '0xe5'],\n",
       " ['0xaa', '0x45', '0x30', '0xe4'],\n",
       " ['0x9d', '0x49', '0xe', '0x19'],\n",
       " ['0xe7', '0xe0', '0x62', '0xee'],\n",
       " ['0xf7', '0xaf', '0x11', '0x71'],\n",
       " ['0x5d', '0xea', '0x21', '0x95'],\n",
       " ['0xc0', '0xa3', '0x2f', '0x8c'],\n",
       " ['0x27', '0x43', '0x4d', '0x62']]"
      ]
     },
     "execution_count": 20,
     "metadata": {},
     "output_type": "execute_result"
    }
   ],
   "source": [
    "round_keys_hex = []\n",
    "# Bộ khóa mở rông sinh ra bởi AES\n",
    "round_keys = AES.round_keys\n",
    "for i in range(len(round_keys)):\n",
    "    round_keys_hex.append([])\n",
    "    for j in range(len(round_keys[i])):\n",
    "        round_keys_hex[i].append(hex(round_keys[i][j]))\n",
    "round_keys_hex"
   ]
  },
  {
   "cell_type": "code",
   "execution_count": 21,
   "metadata": {},
   "outputs": [
    {
     "data": {
      "text/plain": [
       "44"
      ]
     },
     "execution_count": 21,
     "metadata": {},
     "output_type": "execute_result"
    }
   ],
   "source": [
    "len(round_keys)"
   ]
  },
  {
   "cell_type": "markdown",
   "metadata": {},
   "source": [
    "<h1 style=\"color:BLUE\">III. Mã hóa(Original Design)  </h1>\n",
    "<img align=\"between\" src=\"AESEn.PNG\" width=\"650\"/>"
   ]
  },
  {
   "cell_type": "markdown",
   "metadata": {},
   "source": [
    "<h2 style=\"color:BLUE\">III.1. Mã hóa khối plaintext thứ nhất </h2>"
   ]
  },
  {
   "cell_type": "code",
   "execution_count": 22,
   "metadata": {},
   "outputs": [
    {
     "data": {
      "text/plain": [
       "'Toi yeu tieng nu'"
      ]
     },
     "execution_count": 22,
     "metadata": {},
     "output_type": "execute_result"
    }
   ],
   "source": [
    "PlainText_List[0]"
   ]
  },
  {
   "cell_type": "code",
   "execution_count": 23,
   "metadata": {},
   "outputs": [
    {
     "data": {
      "text/plain": [
       "'0x546f6920796575207469656e67206e75'"
      ]
     },
     "execution_count": 23,
     "metadata": {},
     "output_type": "execute_result"
    }
   ],
   "source": [
    "hex(text_hex[0])"
   ]
  },
  {
   "cell_type": "code",
   "execution_count": 24,
   "metadata": {},
   "outputs": [],
   "source": [
    "# chuyển dạng hex về ma trận trạng thái\n",
    "Plain_state= text2matrix(text_hex[0])\n"
   ]
  },
  {
   "cell_type": "code",
   "execution_count": 25,
   "metadata": {},
   "outputs": [
    {
     "data": {
      "text/plain": [
       "[['54', '6f', '69', '20'],\n",
       " ['79', '65', '75', '20'],\n",
       " ['74', '69', '65', '6e'],\n",
       " ['67', '20', '6e', '75']]"
      ]
     },
     "execution_count": 25,
     "metadata": {},
     "output_type": "execute_result"
    }
   ],
   "source": [
    "format_hex(Plain_state)"
   ]
  },
  {
   "cell_type": "code",
   "execution_count": 26,
   "metadata": {},
   "outputs": [
    {
     "data": {
      "text/plain": [
       "[['56', '69', '65', '74'],\n",
       " ['4e', '61', '6d', '44'],\n",
       " ['61', '74', '4e', '75'],\n",
       " ['6f', '63', '4f', '69']]"
      ]
     },
     "execution_count": 26,
     "metadata": {},
     "output_type": "execute_result"
    }
   ],
   "source": [
    "#Ma trận khóa vào khối AddRoundKey đầu tiên\n",
    "format_hex(AES.round_keys[:4])"
   ]
  },
  {
   "cell_type": "code",
   "execution_count": 27,
   "metadata": {},
   "outputs": [
    {
     "data": {
      "text/plain": [
       "[['54', '6f', '69', '20'],\n",
       " ['79', '65', '75', '20'],\n",
       " ['74', '69', '65', '6e'],\n",
       " ['67', '20', '6e', '75']]"
      ]
     },
     "execution_count": 27,
     "metadata": {},
     "output_type": "execute_result"
    }
   ],
   "source": [
    "format_hex(Plain_state)"
   ]
  },
  {
   "cell_type": "code",
   "execution_count": 28,
   "metadata": {},
   "outputs": [],
   "source": [
    "#Cho ma trận trạng thái qua khối AddRoundKey\n",
    "AES.add_round_key(Plain_state,AES.round_keys[:4])"
   ]
  },
  {
   "cell_type": "code",
   "execution_count": 29,
   "metadata": {},
   "outputs": [
    {
     "data": {
      "text/plain": [
       "[['02', '06', '0c', '54'],\n",
       " ['37', '04', '18', '64'],\n",
       " ['15', '1d', '2b', '1b'],\n",
       " ['08', '43', '21', '1c']]"
      ]
     },
     "execution_count": 29,
     "metadata": {},
     "output_type": "execute_result"
    }
   ],
   "source": [
    "format_hex(Plain_state)"
   ]
  },
  {
   "cell_type": "markdown",
   "metadata": {},
   "source": [
    "<h3 style=\"color:blue\"> III.1.1 Mã hóa từng round</h3>\n",
    "<img align=\"between\" src=\"Enround.PNG\" width=\"350\"/>"
   ]
  },
  {
   "cell_type": "code",
   "execution_count": 30,
   "metadata": {},
   "outputs": [],
   "source": [
    "# Qua khối SubBytes\n",
    "AES.sub_bytes(Plain_state)\n"
   ]
  },
  {
   "cell_type": "code",
   "execution_count": 31,
   "metadata": {},
   "outputs": [
    {
     "data": {
      "text/plain": [
       "[['77', '6f', 'fe', '20'],\n",
       " ['9a', 'f2', 'ad', '43'],\n",
       " ['59', 'a4', 'f1', 'af'],\n",
       " ['30', '1a', 'fd', '9c']]"
      ]
     },
     "execution_count": 31,
     "metadata": {},
     "output_type": "execute_result"
    }
   ],
   "source": [
    "format_hex(Plain_state)"
   ]
  },
  {
   "cell_type": "code",
   "execution_count": 32,
   "metadata": {},
   "outputs": [],
   "source": [
    "# Qua khối ShifRows\n",
    "AES.shift_rows(Plain_state)\n"
   ]
  },
  {
   "cell_type": "code",
   "execution_count": 33,
   "metadata": {},
   "outputs": [
    {
     "data": {
      "text/plain": [
       "[['77', 'f2', 'f1', '9c'],\n",
       " ['9a', 'a4', 'fd', '20'],\n",
       " ['59', '1a', 'fe', '43'],\n",
       " ['30', '6f', 'ad', 'af']]"
      ]
     },
     "execution_count": 33,
     "metadata": {},
     "output_type": "execute_result"
    }
   ],
   "source": [
    "format_hex(Plain_state)"
   ]
  },
  {
   "cell_type": "code",
   "execution_count": 34,
   "metadata": {},
   "outputs": [],
   "source": [
    "#Qua khối MixColumns\n",
    "AES.mix_columns(Plain_state)\n"
   ]
  },
  {
   "cell_type": "code",
   "execution_count": 35,
   "metadata": {},
   "outputs": [
    {
     "data": {
      "text/plain": [
       "[['8e', '1c', 'c3', 'b9'],\n",
       " ['05', 'f5', 'bf', 'ac'],\n",
       " ['21', '37', '61', '89'],\n",
       " ['d3', 'ad', 'f4', 'd7']]"
      ]
     },
     "execution_count": 35,
     "metadata": {},
     "output_type": "execute_result"
    }
   ],
   "source": [
    "format_hex(Plain_state)"
   ]
  },
  {
   "cell_type": "code",
   "execution_count": 36,
   "metadata": {},
   "outputs": [],
   "source": [
    "#Qua khối AddRoundKey\n",
    "AES.add_round_key(Plain_state,round_keys[4:8])\n"
   ]
  },
  {
   "cell_type": "code",
   "execution_count": 37,
   "metadata": {},
   "outputs": [
    {
     "data": {
      "text/plain": [
       "[['22', 'f1', '5f', '65'],\n",
       " ['e7', '79', '4e', '34'],\n",
       " ['a2', 'cf', 'de', '64'],\n",
       " ['3f', '36', '04', '53']]"
      ]
     },
     "execution_count": 37,
     "metadata": {},
     "output_type": "execute_result"
    }
   ],
   "source": [
    "format_hex(Plain_state)"
   ]
  },
  {
   "cell_type": "code",
   "execution_count": 38,
   "metadata": {},
   "outputs": [
    {
     "data": {
      "text/plain": [
       "[['22', 'f1', '5f', '65'],\n",
       " ['e7', '79', '4e', '34'],\n",
       " ['a2', 'cf', 'de', '64'],\n",
       " ['3f', '36', '04', '53']]"
      ]
     },
     "execution_count": 38,
     "metadata": {},
     "output_type": "execute_result"
    }
   ],
   "source": [
    "Plain_state = text2matrix(text_hex[0])\n",
    "AES.add_round_key(Plain_state,AES.round_keys[:4])\n",
    "# mã hóa round 1 ứng với ma trận khóa round_keys[4:8]\n",
    "AES.round_encrypt(Plain_state,round_keys[4:8])\n",
    "format_hex(Plain_state)"
   ]
  },
  {
   "cell_type": "markdown",
   "metadata": {},
   "source": [
    "<h3 style=\"color:blue\"> III.1.2 Mã hóa toàn khối</h3>\n",
    "<img align=\"between\" src=\"En.PNG\" width=\"350\"/>"
   ]
  },
  {
   "cell_type": "code",
   "execution_count": 39,
   "metadata": {},
   "outputs": [
    {
     "name": "stdout",
     "output_type": "stream",
     "text": [
      "Plain_state 1 : [['22', 'f1', '5f', '65'], ['e7', '79', '4e', '34'], ['a2', 'cf', 'de', '64'], ['3f', '36', '04', '53']]\n",
      "Plain_state 2 : [['b6', '4f', 'f0', 'd6'], ['51', '36', '04', 'cf'], ['77', '77', '1f', 'd3'], ['49', '90', '32', '74']]\n",
      "Plain_state 3 : [['66', '13', 'af', 'a0'], ['97', 'c0', '83', '4b'], ['73', '56', '7e', '82'], ['66', 'ab', 'fa', '71']]\n",
      "Plain_state 4 : [['d7', 'a5', '1c', 'b4'], ['c5', '41', '2e', '33'], ['86', '32', 'ca', '7e'], ['e2', '5c', 'b3', 'f6']]\n",
      "Plain_state 5 : [['43', 'b2', 'cf', '24'], ['ee', '82', 'c9', '0c'], ['da', 'b5', '72', 'a7'], ['cc', '84', 'f8', '4d']]\n",
      "Plain_state 6 : [['92', '07', 'c3', 'f0'], ['4f', '2c', '4b', '62'], ['e4', 'cb', '71', '09'], ['be', 'ec', '5c', '79']]\n",
      "Plain_state 7 : [['76', 'b0', '94', 'a8'], ['96', 'fd', 'd8', 'ff'], ['a2', '7a', '29', 'e8'], ['ec', '55', '47', '97']]\n",
      "Plain_state 8 : [['49', 'b9', 'ef', '8d'], ['a6', '46', '45', '4f'], ['68', 'a5', '86', '41'], ['35', '8a', '31', '15']]\n",
      "Plain_state 9 : [['a5', '1f', '3b', '04'], ['72', '62', '60', 'f3'], ['ce', '0e', '07', '64'], ['c7', 'eb', 'e0', '6a']]\n",
      "Plain_state 10: [['f1', '05', 'd4', '73'], ['1d', '41', 'c0', '67'], ['4b', '4a', 'cd', '81'], ['e1', '83', '9d', '21']]\n"
     ]
    }
   ],
   "source": [
    "Ciphertext = AES.encrypt(text_hex[0])"
   ]
  },
  {
   "cell_type": "code",
   "execution_count": 40,
   "metadata": {},
   "outputs": [
    {
     "name": "stdout",
     "output_type": "stream",
     "text": [
      "f105d4731d41c0674b4acd81e1839d21\n"
     ]
    }
   ],
   "source": [
    "print(hex(Ciphertext)[2:])"
   ]
  },
  {
   "cell_type": "markdown",
   "metadata": {},
   "source": [
    "<h2 style=\"color:blue\"> III.2. Mã hóa toàn bộ khối</h2>\n",
    "<img align=\"between\" src=\"ECB(ElectronicCodeBook).PNG\" width=\"600\"/>"
   ]
  },
  {
   "cell_type": "code",
   "execution_count": 41,
   "metadata": {
    "scrolled": false
   },
   "outputs": [
    {
     "name": "stdout",
     "output_type": "stream",
     "text": [
      "\n",
      "Mã hóa khối 1 :\n",
      "\n",
      "Plain_state 1 : [['22', 'f1', '5f', '65'], ['e7', '79', '4e', '34'], ['a2', 'cf', 'de', '64'], ['3f', '36', '04', '53']]\n",
      "Plain_state 2 : [['b6', '4f', 'f0', 'd6'], ['51', '36', '04', 'cf'], ['77', '77', '1f', 'd3'], ['49', '90', '32', '74']]\n",
      "Plain_state 3 : [['66', '13', 'af', 'a0'], ['97', 'c0', '83', '4b'], ['73', '56', '7e', '82'], ['66', 'ab', 'fa', '71']]\n",
      "Plain_state 4 : [['d7', 'a5', '1c', 'b4'], ['c5', '41', '2e', '33'], ['86', '32', 'ca', '7e'], ['e2', '5c', 'b3', 'f6']]\n",
      "Plain_state 5 : [['43', 'b2', 'cf', '24'], ['ee', '82', 'c9', '0c'], ['da', 'b5', '72', 'a7'], ['cc', '84', 'f8', '4d']]\n",
      "Plain_state 6 : [['92', '07', 'c3', 'f0'], ['4f', '2c', '4b', '62'], ['e4', 'cb', '71', '09'], ['be', 'ec', '5c', '79']]\n",
      "Plain_state 7 : [['76', 'b0', '94', 'a8'], ['96', 'fd', 'd8', 'ff'], ['a2', '7a', '29', 'e8'], ['ec', '55', '47', '97']]\n",
      "Plain_state 8 : [['49', 'b9', 'ef', '8d'], ['a6', '46', '45', '4f'], ['68', 'a5', '86', '41'], ['35', '8a', '31', '15']]\n",
      "Plain_state 9 : [['a5', '1f', '3b', '04'], ['72', '62', '60', 'f3'], ['ce', '0e', '07', '64'], ['c7', 'eb', 'e0', '6a']]\n",
      "Plain_state 10: [['f1', '05', 'd4', '73'], ['1d', '41', 'c0', '67'], ['4b', '4a', 'cd', '81'], ['e1', '83', '9d', '21']]\n",
      "\n",
      "Mã hóa khối 2 :\n",
      "\n",
      "Plain_state 1 : [['88', 'b1', '71', '3b'], ['93', 'fc', 'b4', 'f1'], ['e6', '4e', 'c6', '03'], ['ba', '0a', '1e', '84']]\n",
      "Plain_state 2 : [['09', '46', '25', 'ff'], ['1a', '1b', '18', '77'], ['77', '0a', 'c1', '73'], ['71', '06', 'cd', '57']]\n",
      "Plain_state 3 : [['6c', '09', '61', 'ea'], ['a2', 'd5', '7e', '09'], ['ae', 'f9', '8d', 'c0'], ['82', '9c', '22', '8a']]\n",
      "Plain_state 4 : [['b2', '9b', 'fd', 'a7'], ['1b', '1d', '7a', 'a6'], ['ab', '29', 'e7', '96'], ['90', '0c', '31', 'bc']]\n",
      "Plain_state 5 : [['9f', 'd9', '63', 'e6'], ['16', 'a8', '61', '82'], ['7e', '44', '59', '64'], ['99', '1d', '7a', '61']]\n",
      "Plain_state 6 : [['e4', 'f5', 'ca', 'ea'], ['fb', 'ca', '14', 'ed'], ['3d', 'fc', 'e0', 'b5'], ['c4', '04', 'be', '83']]\n",
      "Plain_state 7 : [['2d', '00', 'dd', '31'], ['9e', '0f', '32', '24'], ['df', '5d', 'f5', 'b9'], ['6b', 'ae', '23', '83']]\n",
      "Plain_state 8 : [['d3', 'bc', '07', '1f'], ['a9', '7e', '50', 'e3'], ['d0', '2f', '87', '0d'], ['54', '23', 'cc', '9a']]\n",
      "Plain_state 9 : [['4d', '1f', '51', 'c0'], ['a3', 'a1', '3b', '4f'], ['c3', '30', 'fa', '48'], ['8c', '28', 'e3', '0d']]\n",
      "Plain_state 10: [['14', '9d', '3c', 'a6'], ['57', 'ee', '30', '2f'], ['ee', '97', 'fe', '08'], ['43', '83', 'af', '30']]\n",
      "\n",
      "Mã hóa khối 3 :\n",
      "\n",
      "Plain_state 1 : [['31', 'd5', '62', '53'], ['cb', 'f6', '6c', '9a'], ['1f', '66', 'd3', '4f'], ['73', '74', 'e3', 'ab']]\n",
      "Plain_state 2 : [['ed', 'ea', '2c', 'a0'], ['cf', '4a', '10', '48'], ['ff', 'b7', '43', '6f'], ['e3', '73', 'c6', '29']]\n",
      "Plain_state 3 : [['d3', 'f7', '91', 'ea'], ['44', '97', '8b', '41'], ['a1', 'b4', 'e0', '05'], ['c1', '01', 'ea', 'b3']]\n",
      "Plain_state 4 : [['f7', '6c', '16', 'ec'], ['71', '28', '67', 'c5'], ['0d', '90', 'd2', '24'], ['e2', '2d', 'dc', '1f']]\n",
      "Plain_state 5 : [['0e', '7b', '1a', 'e7'], ['89', '64', '87', '2d'], ['f4', '0a', '71', '8a'], ['47', '2a', '89', '3e']]\n",
      "Plain_state 6 : [['a9', '79', '0c', '29'], ['c3', '4f', '5c', 'e3'], ['f4', '12', '19', 'f4'], ['a1', '4c', '48', 'c7']]\n",
      "Plain_state 7 : [['56', '34', '83', '75'], ['89', 'e1', 'ef', '86'], ['4c', 'a9', '75', 'd3'], ['1d', '81', '98', 'c5']]\n",
      "Plain_state 8 : [['b9', '15', 'c8', 'c5'], ['6a', '0d', '4d', '47'], ['d9', '56', '14', 'ee'], ['b8', '21', 'df', '0b']]\n",
      "Plain_state 9 : [['3f', 'd8', '2a', '64'], ['5e', '21', '55', '9a'], ['a3', '1e', 'f6', '08'], ['1f', '28', 'f2', 'b0']]\n",
      "Plain_state 10: [['82', '52', '53', '96'], ['05', '98', 'a8', 'd6'], ['ca', '97', 'ca', '34'], ['e7', '22', 'b1', '52']]\n",
      "\n",
      "Mã hóa khối 4 :\n",
      "\n",
      "Plain_state 1 : [['32', '20', '9a', '8a'], ['e9', '9e', '50', 'd1'], ['c4', '9a', '6a', '75'], ['78', '9c', 'd5', 'dc']]\n",
      "Plain_state 2 : [['65', 'd4', '7e', '69'], ['ca', 'e3', '10', 'ef'], ['1c', '43', '66', '59'], ['58', '2f', '6c', 'f9']]\n",
      "Plain_state 3 : [['a4', '3d', '58', '54'], ['90', '3a', '3e', '3d'], ['14', '01', '63', '99'], ['1e', '9c', 'fb', '37']]\n",
      "Plain_state 4 : [['5c', '8a', '07', '7a'], ['a0', '8e', '14', '64'], ['34', '85', '82', '7d'], ['2d', 'b6', '08', 'd0']]\n",
      "Plain_state 5 : [['2b', '42', '89', '71'], ['af', '07', '78', '81'], ['b7', '8a', '03', '05'], ['03', '7e', '59', '26']]\n",
      "Plain_state 6 : [['11', '02', 'b4', '13'], ['14', '20', '1a', '81'], ['33', 'f3', '74', '6e'], ['a5', '7e', 'ec', '3d']]\n",
      "Plain_state 7 : [['06', '28', '55', '2a'], ['29', 'c1', 'af', '12'], ['af', 'f2', '12', 'c4'], ['e5', '2f', 'c6', 'f0']]\n",
      "Plain_state 8 : [['fb', '06', '40', '3c'], ['0a', 'ce', '62', '19'], ['cf', '89', 'f1', '16'], ['ea', '8f', '57', 'f2']]\n",
      "Plain_state 9 : [['90', '76', '64', 'd7'], ['26', '71', '60', '7c'], ['da', 'ea', '82', '55'], ['ae', '1b', '0c', '37']]\n",
      "Plain_state 10: [['97', '0c', '02', 'eb'], ['aa', '6d', 'df', '9b'], ['97', '0c', '6c', '9c'], ['c3', '7b', '9d', '9e']]\n",
      "\n",
      "Mã hóa khối 5 :\n",
      "\n",
      "Plain_state 1 : [['89', '31', '26', '5c'], ['f3', 'cf', '82', 'd7'], ['d0', '2b', 'df', '12'], ['95', '25', '14', '22']]\n",
      "Plain_state 2 : [['67', 'e3', '67', 'c9'], ['fa', '46', 'ff', '02'], ['83', '17', '25', '23'], ['eb', 'cd', 'f6', 'c0']]\n",
      "Plain_state 3 : [['dd', '54', 'a6', '16'], ['31', 'be', 'c5', '66'], ['c9', '08', 'b4', '9c'], ['d9', '3f', 'ae', 'ed']]\n",
      "Plain_state 4 : [['9c', '0b', '07', '24'], ['ad', 'f0', '9b', 'ff'], ['c6', '29', 'ae', 'd9'], ['8e', 'f3', '30', '6a']]\n",
      "Plain_state 5 : [['39', '97', 'eb', '50'], ['cb', 'a6', '78', 'db'], ['64', 'f5', '13', '03'], ['41', 'f6', '4f', '4a']]\n",
      "Plain_state 6 : [['d3', '13', 'd9', '88'], ['d4', '4c', '71', '07'], ['cf', '07', '77', 'c5'], ['a9', 'c5', '80', 'aa']]\n",
      "Plain_state 7 : [['80', 'c9', '67', 'e9'], ['af', '44', '03', '7d'], ['b3', '0b', '25', '7b'], ['72', 'd4', '50', 'ed']]\n",
      "Plain_state 8 : [['2e', 'ba', '06', 'fd'], ['48', '84', 'df', 'ce'], ['4f', '9a', '10', '62'], ['dc', 'e4', '64', 'd3']]\n",
      "Plain_state 9 : [['0f', 'a9', '72', 'ef'], ['ca', 'ed', 'a0', '41'], ['d1', '25', 'bb', '85'], ['c3', '86', 'd2', '5a']]\n",
      "Plain_state 10: [['81', 'fa', 'fb', 'cf'], ['29', 'd5', '94', '4a'], ['fe', 'e7', '6f', '0f'], ['09', '90', 'ad', 'f5']]\n",
      "\n",
      "Mã hóa khối 6 :\n",
      "\n",
      "Plain_state 1 : [['4a', '6c', 'd9', 'b0'], ['5c', '3e', '45', '24'], ['0a', 'f5', 'b7', '6b'], ['da', 'd2', 'c3', '7f']]\n",
      "Plain_state 2 : [['bb', 'fa', '83', 'd7'], ['34', 'e5', 'f0', '49'], ['d2', '6a', '6f', '22'], ['78', 'b4', '27', 'da']]\n",
      "Plain_state 3 : [['e7', '69', '53', '72'], ['0b', '2e', '6b', 'f8'], ['0e', 'c6', 'db', 'b6'], ['18', '12', '2c', 'c5']]\n",
      "Plain_state 4 : [['4b', 'd4', 'ab', '8d'], ['6b', 'ac', 'cb', 'cf'], ['4e', '0e', '7b', 'd2'], ['9c', '22', '73', 'e2']]\n",
      "Plain_state 5 : [['9b', '0e', 'bf', '10'], ['f6', 'bd', '2c', 'ad'], ['cb', '27', 'fc', 'af'], ['fa', '6a', '66', '6b']]\n",
      "Plain_state 6 : [['59', '4c', 'e0', '58'], ['3e', '1e', 'c3', '54'], ['7a', 'cf', 'c6', 'd8'], ['44', '63', '8a', 'a9']]\n",
      "Plain_state 7 : [['12', '6e', '92', 'e1'], ['8c', '40', '22', 'd3'], ['c5', '63', 'af', 'd3'], ['4f', 'ff', '9f', 'e2']]\n",
      "Plain_state 8 : [['9b', '9d', 'd0', '24'], ['77', '47', '28', '66'], ['73', '31', 'ba', '99'], ['26', 'c0', 'e0', 'a0']]\n",
      "Plain_state 9 : [['e7', 'ad', '45', '56'], ['de', '2b', '81', 'aa'], ['0e', '0a', '8e', '3f'], ['2a', '19', '8a', '41']]\n",
      "Plain_state 10: [['63', '5e', '08', 'f2'], ['40', '8d', '5f', '24'], ['6b', '77', '41', '20'], ['c2', 'd6', '41', '17']]\n",
      "\n",
      "Mã hóa khối 7 :\n",
      "\n",
      "Plain_state 1 : [['9f', '40', '03', 'c9'], ['29', 'e8', 'ef', '2b'], ['36', '4d', '47', '94'], ['fd', 'b3', 'b8', '93']]\n",
      "Plain_state 2 : [['dd', 'b0', 'a7', 'fc'], ['86', 'fc', 'd0', '50'], ['ec', 'b6', '1b', '87'], ['79', '90', 'e3', '8d']]\n",
      "Plain_state 3 : [['07', '93', '01', '75'], ['04', '28', '03', 'ea'], ['0c', 'df', '8e', 'b6'], ['31', '0c', '98', 'fe']]\n",
      "Plain_state 4 : [['5b', '69', '83', 'e1'], ['56', 'a5', '2a', '03'], ['ea', '5b', '71', '1c'], ['23', '0e', '34', '7d']]\n",
      "Plain_state 5 : [['d3', '4b', '14', '4e'], ['ee', '4b', 'b1', 'b0'], ['b7', '87', '63', '03'], ['0a', 'd7', 'bb', '61']]\n",
      "Plain_state 6 : [['26', 'fa', '66', '77'], ['a0', '4c', 'ef', '39'], ['99', '1e', '15', '03'], ['43', 'cb', 'b7', 'd2']]\n",
      "Plain_state 7 : [['0c', 'ae', '9e', 'df'], ['73', '04', '87', '2f'], ['7a', 'db', '96', 'dd'], ['aa', 'e4', '4d', '20']]\n",
      "Plain_state 8 : [['25', '48', 'a4', '31'], ['22', '06', '5b', 'f6'], ['3d', '0c', 'a4', 'c0'], ['d8', '2e', '52', '72']]\n",
      "Plain_state 9 : [['e6', '7f', '3b', '02'], ['49', 'f6', '0f', '21'], ['8b', '95', '4c', '8c'], ['50', 'd4', 'f6', '49']]\n",
      "Plain_state 10: [['79', 'ed', '38', '4a'], ['66', 'c0', '63', 'e2'], ['fd', 'eb', 'cd', '71'], ['74', '91', '3b', '06']]\n",
      "\n",
      "Mã hóa khối 8 :\n",
      "\n",
      "Plain_state 1 : [['93', '60', 'c6', 'b0'], ['aa', 'bf', 'a4', '04'], ['cf', '5e', 'fb', '05'], ['7e', 'ff', '03', 'b4']]\n",
      "Plain_state 2 : [['83', '31', '85', '6b'], ['6f', '9b', '02', '93'], ['a8', '86', '6f', 'bf'], ['83', '76', '71', 'a2']]\n",
      "Plain_state 3 : [['ca', '83', '2f', '6f'], ['a4', 'd2', 'd0', 'f8'], ['b8', 'aa', 'dd', '34'], ['fd', '00', 'cd', '09']]\n",
      "Plain_state 4 : [['d8', '08', 'cd', '1f'], ['a3', '59', '11', '76'], ['c6', '95', 'fd', 'd2'], ['13', 'b6', '7b', '44']]\n",
      "Plain_state 5 : [['3c', '74', '43', '4f'], ['b7', 'a5', '23', '3c'], ['f7', 'd5', 'd2', '64'], ['b2', '85', '9c', '70']]\n",
      "Plain_state 6 : [['13', '6a', '1b', '67'], ['1a', '12', 'f4', 'cc'], ['5c', 'c1', '82', '3a'], ['56', 'c8', '49', '9d']]\n",
      "Plain_state 7 : [['99', 'ca', '46', '3d'], ['0b', '8f', '60', '91'], ['ee', '6c', '0d', 'f3'], ['0d', '4a', '1f', '64']]\n",
      "Plain_state 8 : [['2e', '7c', 'bc', '34'], ['cb', 'b7', '80', 'a2'], ['dd', 'fc', 'ec', '10'], ['8e', 'f0', '63', '2b']]\n",
      "Plain_state 9 : [['9d', 'c5', '2e', '28'], ['bc', '2f', '5a', 'be'], ['d4', '1e', 'c7', 'dc'], ['e2', '5f', 'af', '97']]\n",
      "Plain_state 10: [['a9', 'ba', 'd7', 'f9'], ['38', '98', '58', 'a1'], ['88', '6c', '1e', '22'], ['bf', 'e5', 'f3', 'e4']]\n",
      "\n",
      "Mã hóa khối 9 :\n",
      "\n",
      "Plain_state 1 : [['ff', 'a4', 'f2', 'a9'], ['3f', '87', 'f0', 'f2'], ['3c', '0a', 'b0', '18'], ['f4', '6c', '53', 'b6']]\n",
      "Plain_state 2 : [['06', '25', 'c5', '44'], ['25', 'a9', '8f', '22'], ['e6', '57', 'bf', '91'], ['a8', '81', '64', 'bd']]\n",
      "Plain_state 3 : [['65', '2e', 'f0', '16'], ['34', '24', '2f', '6d'], ['02', '92', '16', '7b'], ['3f', '40', '93', '8e']]\n",
      "Plain_state 4 : [['aa', 'a5', '48', '61'], ['b1', '99', '4b', 'c2'], ['aa', '97', '22', 'f6'], ['71', 'a0', '06', 'ed']]\n",
      "Plain_state 5 : [['5b', 'ef', 'ec', '7d'], ['b4', 'c5', 'ae', 'd3'], ['dc', 'bd', '86', '37'], ['89', '93', '14', 'fb']]\n",
      "Plain_state 6 : [['f8', 'b5', '72', 'e7'], ['86', 'd3', '6c', '0b'], ['1f', '53', '18', '8d'], ['a1', '46', '7b', '10']]\n",
      "Plain_state 7 : [['21', 'fe', '15', '5b'], ['73', '67', '14', '0d'], ['a3', 'd3', '50', 'eb'], ['40', '8b', 'f2', '63']]\n",
      "Plain_state 8 : [['35', 'b7', '99', '18'], ['95', 'ba', 'a2', '16'], ['ea', '40', 'd9', '32'], ['ad', '31', '11', '64']]\n",
      "Plain_state 9 : [['66', '7c', 'f4', '03'], ['ca', '4d', 'e0', '50'], ['73', '35', '40', '2c'], ['2f', '51', '4f', '9f']]\n",
      "Plain_state 10: [['c4', '4c', '18', 'aa'], ['29', '7c', 'a5', 'ee'], ['4f', '72', '90', 'df'], ['32', '53', 'ac', '13']]\n",
      "\n",
      "Mã hóa khối 10 :\n",
      "\n",
      "Plain_state 1 : [['94', 'f5', '41', '3e'], ['45', '91', '5d', '37'], ['b6', '46', '94', '8a'], ['66', '13', '28', '85']]\n",
      "Plain_state 2 : [['d3', 'ab', '86', 'e2'], ['ec', 'd9', 'a3', '29'], ['d9', 'a5', '16', '64'], ['52', 'c0', 'b2', 'e0']]\n",
      "Plain_state 3 : [['92', 'ba', '37', '89'], ['dd', '70', 'f5', '51'], ['7a', '55', '9e', '95'], ['fc', '71', 'a3', '68']]\n",
      "Plain_state 4 : [['17', 'e1', '51', 'f4'], ['e0', 'bc', 'ad', '0c'], ['f5', 'a2', '25', '67'], ['4c', 'f1', 'e6', '99']]\n",
      "Plain_state 5 : [['72', 'ea', 'ae', 'd3'], ['9a', 'fb', '1c', '5b'], ['d3', '30', 'e6', '86'], ['7e', '53', '7e', '33']]\n",
      "Plain_state 6 : [['ec', '0c', '62', '8c'], ['fe', '98', '85', '0a'], ['e2', 'f0', '7c', '13'], ['47', 'f4', 'fe', '6b']]\n",
      "Plain_state 7 : [['4c', '58', '1f', '3d'], ['5f', '1f', 'ae', '17'], ['81', '33', 'f6', '94'], ['e5', '3d', 'be', '62']]\n",
      "Plain_state 8 : [['09', '8b', 'd9', '89'], ['d8', 'dc', '2b', '68'], ['76', 'e5', '85', 'f5'], ['ab', 'b1', '6a', '4d']]\n",
      "Plain_state 9 : [['c7', '52', 'b5', '2a'], ['bd', '2c', '7e', 'c9'], ['de', 'e0', '5b', '26'], ['73', '16', 'f5', '53']]\n",
      "Plain_state 10: [['31', 'de', '28', '9c'], ['27', '0b', 'c7', '70'], ['dd', 'e4', 'fa', '51'], ['a8', '43', 'be', '95']]\n",
      "\n",
      "Mã hóa khối 11 :\n",
      "\n",
      "Plain_state 1 : [['30', 'b0', '1e', 'd1'], ['cd', '7c', '68', 'a6'], ['92', 'bc', 'e1', '74'], ['46', '53', '75', '3b']]\n",
      "Plain_state 2 : [['98', 'b4', '01', '29'], ['35', '18', '89', 'd2'], ['3f', '29', 'a7', '61'], ['66', '5c', 'e7', '90']]\n",
      "Plain_state 3 : [['fb', '1d', '21', '73'], ['0d', 'b6', '14', 'c3'], ['d9', 'b6', '6e', 'bd'], ['b1', 'c7', 'd1', '3c']]\n",
      "Plain_state 4 : [['8c', '96', 'd4', 'f8'], ['1d', 'a1', '19', 'e0'], ['07', 'd1', '7b', 'aa'], ['00', '5d', '06', 'fd']]\n",
      "Plain_state 5 : [['1c', '48', '84', '52'], ['03', '70', '9d', '96'], ['3f', '7d', '20', 'a9'], ['3a', '23', 'a5', '96']]\n",
      "Plain_state 6 : [['c7', '74', '67', '32'], ['e6', 'd4', 'e6', '96'], ['90', '11', '29', '1f'], ['90', 'fc', '65', 'dc']]\n",
      "Plain_state 7 : [['02', '71', '78', '77'], ['96', '70', 'ab', '3e'], ['a3', '53', '5d', '52'], ['6e', 'b3', 'fc', '2d']]\n",
      "Plain_state 8 : [['61', '8c', '9c', '10'], ['d8', '2f', '0b', '06'], ['9a', 'b1', 'f7', '4d'], ['c3', 'cd', '94', '8c']]\n",
      "Plain_state 9 : [['d6', '1c', 'bf', '7a'], ['c3', '03', '98', '22'], ['9b', '86', '1d', '77'], ['df', '98', '40', '0e']]\n",
      "Plain_state 10: [['01', 'd4', 'b5', 'da'], ['73', 'ae', '28', '4f'], ['d4', 'e5', '27', '1f'], ['b9', 'df', '0b', '97']]\n",
      "\n",
      "Mã hóa khối 12 :\n",
      "\n",
      "Plain_state 1 : [['8f', '4a', 'c1', '73'], ['23', '26', '48', '62'], ['65', '71', '92', '21'], ['68', 'ed', 'e5', 'f2']]\n",
      "Plain_state 2 : [['98', 'bf', '59', '36'], ['bc', '69', '94', '9f'], ['6c', 'd0', '80', 'd2'], ['73', '77', '56', '49']]\n",
      "Plain_state 3 : [['cd', '46', 'a1', '00'], ['11', '3b', '83', '66'], ['90', '5a', '33', '06'], ['99', 'a4', '17', '57']]\n",
      "Plain_state 4 : [['f0', '33', 'b9', 'be'], ['9e', 'aa', '14', 'e2'], ['f5', 'd6', '03', '2f'], ['56', 'b3', 'cd', '55']]\n",
      "Plain_state 5 : [['9c', 'c1', 'a5', 'fe'], ['38', 'd6', '6f', 'a3'], ['7d', '47', '95', '01'], ['e7', '9c', 'a8', 'ef']]\n",
      "Plain_state 6 : [['63', '90', '72', '50'], ['80', 'fa', '80', 'e4'], ['4f', '01', '5c', '14'], ['9f', '12', '46', '79']]\n",
      "Plain_state 7 : [['08', '9c', 'b5', 'da'], ['6e', '9d', 'a8', 'f2'], ['c7', 'e8', '41', '30'], ['77', '08', '7d', '3e']]\n",
      "Plain_state 8 : [['5b', 'f5', 'ef', 'cd'], ['b1', 'bf', '11', '71'], ['ac', '47', 'f9', '40'], ['34', 'a2', 'd4', 'e7']]\n",
      "Plain_state 9 : [['47', '08', '86', '0c'], ['2f', 'b3', '14', '2e'], ['96', '75', 'fe', '09'], ['6d', 'bb', '98', 'b0']]\n",
      "Plain_state 10: [['57', 'c2', 'aa', '96'], ['48', '77', '67', '6b'], ['50', '49', '6b', 'bd'], ['1b', '73', 'b7', '63']]\n",
      "\n",
      "Mã hóa khối 13 :\n",
      "\n",
      "Plain_state 1 : [['9f', 'd3', '16', '40'], ['86', '7e', '36', '10'], ['e3', 'ad', '60', '10'], ['c8', '15', '39', 'b8']]\n",
      "Plain_state 2 : [['a5', '40', 'e4', '9f'], ['6f', 'a7', 'dc', 'd3'], ['9f', 'b5', '0e', 'c5'], ['99', '6f', 'bc', '2c']]\n",
      "Plain_state 3 : [['95', 'b7', '56', '97'], ['6e', '1e', '21', 'fc'], ['65', '2b', '66', '1e'], ['ef', '23', '11', '77']]\n",
      "Plain_state 4 : [['30', '3a', 'ac', '3b'], ['ec', '54', '84', '35'], ['1e', '38', 'c2', 'a9'], ['36', '51', '0a', 'de']]\n",
      "Plain_state 5 : [['a7', '49', '25', '76'], ['37', 'd3', '20', '44'], ['58', 'ec', '3a', 'c1'], ['32', '9c', '5f', '59']]\n",
      "Plain_state 6 : [['69', 'd8', '13', 'df'], ['9d', '2f', 'f7', '26'], ['56', 'ce', '88', 'ab'], ['34', '06', '80', 'ef']]\n",
      "Plain_state 7 : [['a3', '0e', '33', 'b8'], ['0b', '94', 'b5', 'bd'], ['ff', '53', '11', 'd3'], ['d4', 'a5', '5d', 'ef']]\n",
      "Plain_state 8 : [['c7', '59', '1c', '24'], ['d0', '12', 'e3', '05'], ['a8', '32', '3d', 'f6'], ['bf', 'ae', '94', '9d']]\n",
      "Plain_state 9 : [['8e', '7d', '9a', 'e6'], ['3b', '23', '7d', '19'], ['c2', '8c', 'b6', 'ea'], ['e2', '14', '45', 'a8']]\n",
      "Plain_state 10: [['ee', '89', '5f', 'b3'], ['bf', '8e', '4f', '1b'], ['e5', '59', '97', '58'], ['bf', 'bc', 'b2', 'e5']]\n",
      "\n",
      "Mã hóa khối 14 :\n",
      "\n",
      "Plain_state 1 : [['3b', '30', 'a6', '6d'], ['4e', '6e', 'c4', '94'], ['c6', 'b0', '58', '7c'], ['a0', '43', '32', 'cf']]\n",
      "Plain_state 2 : [['3f', '92', 'ef', 'd5'], ['2b', '4e', 'f8', '47'], ['80', 'db', '0d', 'da'], ['ec', '52', '91', 'e0']]\n",
      "Plain_state 3 : [['0a', '36', '05', '36'], ['54', '70', 'b4', '34'], ['da', '71', 'fe', 'ad'], ['53', '2c', 'ea', '6f']]\n",
      "Plain_state 4 : [['1a', 'ef', '2e', 'fd'], ['f7', 'cd', 'ef', 'b9'], ['a1', '51', 'c3', '41'], ['2a', '57', '46', '81']]\n",
      "Plain_state 5 : [['56', 'c2', '3b', '33'], ['8a', '33', 'eb', '29'], ['3d', '98', 'f0', 'b0'], ['d8', '09', '0b', '1d']]\n",
      "Plain_state 6 : [['3f', '1f', 'f2', '84'], ['d2', '0c', '5e', '90'], ['d5', 'e4', '62', '19'], ['53', '05', 'da', '4c']]\n",
      "Plain_state 7 : [['1e', '0b', '89', '45'], ['a0', 'd4', 'cb', '7a'], ['ef', '79', 'f6', 'db'], ['5b', 'ef', 'a8', '0d']]\n",
      "Plain_state 8 : [['41', 'a6', '8d', '16'], ['3c', 'e4', '72', '92'], ['95', '5e', '1e', '50'], ['d3', '5e', '90', 'e1']]\n",
      "Plain_state 9 : [['0c', '3a', '24', '8b'], ['a8', 'f9', '8a', '74'], ['33', '7b', '17', 'fc'], ['54', '5d', '55', '86']]\n",
      "Plain_state 10: [['09', '36', 'e1', '35'], ['9f', 'cb', 'dd', 'a8'], ['03', 'ef', '19', '1e'], ['07', 'c3', '33', 'd2']]\n",
      "\n",
      "Mã hóa khối 15 :\n",
      "\n",
      "Plain_state 1 : [['c7', 'b6', '76', '15'], ['f1', 'f2', '3d', 'cf'], ['b2', '9f', 'bb', 'a5'], ['b2', '28', 'e2', 'c4']]\n",
      "Plain_state 2 : [['5b', '97', '67', '18'], ['b6', '0b', '88', '83'], ['5b', '88', '7b', '3d'], ['aa', '4a', '40', 'df']]\n",
      "Plain_state 3 : [['17', '0c', '3b', 'ee'], ['90', '18', '94', '5c'], ['5e', '90', 'bc', 'be'], ['30', '3f', 'ce', '6b']]\n",
      "Plain_state 4 : [['39', '35', '80', 'c8'], ['08', '29', '03', 'ec'], ['68', '84', '37', '79'], ['61', '82', '5c', '83']]\n",
      "Plain_state 5 : [['51', '65', 'db', '8f'], ['1f', 'e0', 'c2', '3c'], ['6f', 'f8', '9f', 'b6'], ['86', '53', '44', '84']]\n",
      "Plain_state 6 : [['35', '39', '08', 'bc'], ['3c', '5c', '4c', '05'], ['ea', '0b', '65', 'b8'], ['c4', '16', 'f4', 'ce']]\n",
      "Plain_state 7 : [['41', '0b', 'f6', '77'], ['08', '17', '52', '46'], ['3a', '7e', '2a', 'cf'], ['06', '8a', 'ba', 'cd']]\n",
      "Plain_state 8 : [['a6', 'a4', '2f', 'd5'], ['e5', '7f', '3d', 'a7'], ['b6', 'ec', 'aa', 'ee'], ['53', '1a', 'ad', '62']]\n",
      "Plain_state 9 : [['03', 'db', '69', 'b8'], ['dc', 'bc', '13', 'c9'], ['b5', '3b', '2c', 'c4'], ['f2', 'de', 'f0', 'fc']]\n",
      "Plain_state 10: [['8c', 'ca', '60', 'c1'], ['db', '08', 'ad', 'f9'], ['15', 'be', 'd6', '51'], ['ae', 'fa', '30', '7e']]\n",
      "\n",
      "Mã hóa khối 16 :\n",
      "\n",
      "Plain_state 1 : [['5f', 'ec', 'b7', '9a'], ['1f', '2a', '6a', '28'], ['f6', 'fe', '26', '2d'], ['62', '6b', '69', '27']]\n",
      "Plain_state 2 : [['30', 'b1', '53', 'c9'], ['54', 'e8', '73', 'f8'], ['43', '7d', 'a5', '1f'], ['eb', '7d', '6e', '61']]\n",
      "Plain_state 3 : [['f0', '52', '6b', 'dc'], ['e7', 'd1', '66', 'a3'], ['a6', 'f4', '8a', 'db'], ['d6', 'c0', '6f', '7a']]\n",
      "Plain_state 4 : [['d1', 'fc', 'ad', '95'], ['0c', 'b3', '87', '50'], ['07', '81', '65', '2f'], ['81', 'b3', '4b', '4f']]\n",
      "Plain_state 5 : [['f5', 'c8', '32', '34'], ['56', '5a', 'eb', '40'], ['33', 'f1', '6d', '2a'], ['fe', 'eb', 'a7', 'ad']]\n",
      "Plain_state 6 : [['97', '48', 'f0', 'd2'], ['c9', '54', 'ee', 'e7'], ['48', '3f', '18', '44'], ['b2', '5c', 'cb', 'f0']]\n",
      "Plain_state 7 : [['24', 'fd', '50', 'd1'], ['f6', 'b6', '0a', '59'], ['df', '91', '8b', 'ff'], ['e6', '55', '4a', '1f']]\n",
      "Plain_state 8 : [['ab', '78', '08', '8d'], ['7e', '44', '3f', 'ec'], ['97', '4f', 'bc', '66'], ['f0', '30', '42', '61']]\n",
      "Plain_state 9 : [['43', '11', 'a0', 'f8'], ['b1', '8c', 'f8', 'f8'], ['64', '57', 'ab', '29'], ['7d', 'a3', 'ed', 'ce']]\n",
      "Plain_state 10: [['ed', 'cb', '73', 'fa'], ['95', 'b1', '74', 'd4'], ['83', 'a9', 'cf', 'cd'], ['d8', 'c1', '0c', 'c7']]\n",
      "\n",
      "Mã hóa khối 17 :\n",
      "\n",
      "Plain_state 1 : [['01', '3c', '3b', '19'], ['b5', '9a', 'b8', '9a'], ['4f', '38', '3f', '47'], ['b6', '83', '5b', '42']]\n",
      "Plain_state 2 : [['c8', 'c5', '99', '03'], ['0d', 'a9', 'f5', '63'], ['bd', 'd7', 'e9', '95'], ['41', '19', 'fb', 'ed']]\n",
      "Plain_state 3 : [['49', 'bc', '2a', 'cc'], ['2c', 'd2', 'aa', '97'], ['a2', '7d', '12', '3c'], ['33', '27', '9c', '0c']]\n",
      "Plain_state 4 : [['b1', 'a0', '88', '23'], ['a6', '81', '82', 'd3'], ['b9', '44', 'bf', 'fe'], ['89', 'a4', 'c8', '4e']]\n",
      "Plain_state 5 : [['4f', '98', 'c9', '5c'], ['97', '4f', '84', '61'], ['06', 'ec', '27', '9b'], ['e9', '42', 'bd', '58']]\n",
      "Plain_state 6 : [['12', 'aa', '49', '5b'], ['7e', '8b', '02', '41'], ['47', 'fd', 'a7', '47'], ['4d', '8e', 'bf', 'e5']]\n",
      "Plain_state 7 : [['25', 'db', '0a', '54'], ['52', '6f', 'a4', '1e'], ['75', '10', '66', '38'], ['a8', '3c', '08', 'b4']]\n",
      "Plain_state 8 : [['cb', 'f9', '2c', 'e4'], ['df', 'bf', 'c3', 'bb'], ['25', '87', '10', '29'], ['7b', 'de', '8c', '54']]\n",
      "Plain_state 9 : [['ec', '6f', 'c1', '46'], ['b9', '30', 'ca', 'fc'], ['5f', '35', 'eb', 'fb'], ['9e', '3f', '72', '6b']]\n",
      "Plain_state 10: [['39', 'ab', 'f8', '0e'], ['0b', '7c', '61', 'cf'], ['0f', 'd6', '57', '3c'], ['2c', 'eb', '39', '6d']]\n",
      "\n",
      "Mã hóa khối 18 :\n",
      "\n",
      "Plain_state 1 : [['26', '89', '14', '65'], ['6c', 'cb', '80', 'b0'], ['50', 'e0', '6b', '1a'], ['1c', '88', '30', 'b5']]\n",
      "Plain_state 2 : [['c4', 'fc', 'b1', 'c1'], ['89', '25', '5c', '05'], ['37', '27', 'c7', '79'], ['89', 'a9', '3a', '69']]\n",
      "Plain_state 3 : [['e1', '54', '76', 'bc'], ['1d', 'b4', '18', '4c'], ['c6', '69', '12', '1d'], ['71', '5c', '52', 'f9']]\n",
      "Plain_state 4 : [['03', '74', 'da', '8b'], ['ed', '0f', '84', '33'], ['53', '00', 'ee', '75'], ['c8', '02', '3e', '34']]\n",
      "Plain_state 5 : [['ab', '88', '19', 'a6'], ['bc', '3b', '14', 'e6'], ['1f', '20', '6b', 'b1'], ['8b', '1b', '72', 'fb']]\n",
      "Plain_state 6 : [['b9', '2b', '1b', '75'], ['60', 'b4', '50', 'f2'], ['f4', '35', '3a', 'e5'], ['ef', '9a', '30', '04']]\n",
      "Plain_state 7 : [['3c', '6b', 'fb', 'd4'], ['e1', '63', 'aa', 'e6'], ['2d', 'fb', 'f5', '38'], ['6a', 'af', 'aa', '7b']]\n",
      "Plain_state 8 : [['f4', '43', 'f5', '46'], ['94', '01', '65', '21'], ['96', 'b9', '08', 'ff'], ['54', 'bd', '5b', '2c']]\n",
      "Plain_state 9 : [['80', '63', '09', '91'], ['77', 'da', 'd8', '59'], ['33', 'e1', '2f', 'cf'], ['d2', '35', 'f8', 'f5']]\n",
      "Plain_state 10: [['3a', 'f8', '04', '97'], ['a8', '12', '60', '14'], ['03', '35', '2e', '47'], ['92', 'b8', '2c', 'e8']]\n",
      "\n",
      "Mã hóa khối 19 :\n",
      "\n",
      "Plain_state 1 : [['15', 'c6', '06', '0b'], ['e7', '79', '4e', '34'], ['a2', 'cf', 'de', '64'], ['3f', '36', '04', '53']]\n",
      "Plain_state 2 : [['39', '85', '3a', '93'], ['37', '50', 'ae', '03'], ['d7', '8c', '44', '73'], ['76', 'ba', '27', '61']]\n",
      "Plain_state 3 : [['82', 'e8', '8f', '33'], ['6c', 'b2', 'e2', 'bc'], ['c4', '7b', '01', 'f5'], ['aa', '5d', 'e6', 'b8']]\n",
      "Plain_state 4 : [['5b', 'c1', 'fe', '53'], ['45', '7f', '5e', '35'], ['15', '35', '02', '43'], ['77', '7d', '26', '2f']]\n",
      "Plain_state 5 : [['8a', '75', '56', '81'], ['5b', 'ee', '3b', 'a0'], ['56', 'e5', '6b', 'b8'], ['14', '47', '19', '24']]\n",
      "Plain_state 6 : [['fd', '81', '86', 'e9'], ['d6', 'bb', '29', 'bc'], ['0c', '9b', '3c', 'c0'], ['2d', '63', '69', '44']]\n",
      "Plain_state 7 : [['13', 'f3', '68', '17'], ['4e', 'c5', '71', 'ee'], ['6d', 'f6', '15', '90'], ['ed', '2b', '02', 'bf']]\n",
      "Plain_state 8 : [['b2', '9c', '20', '57'], ['95', '82', '81', 'be'], ['2a', '2e', '01', '5d'], ['04', '78', 'c9', '66']]\n",
      "Plain_state 9 : [['34', 'a3', 'b0', 'b5'], ['2b', '2a', '67', 'c0'], ['8a', 'a3', 'cb', '61'], ['21', 'ed', '82', 'a9']]\n",
      "Plain_state 10: [['ef', '4a', '0e', 'a2'], ['ac', 'e0', '32', '40'], ['be', 'f6', 'c8', '36'], ['da', '49', 'c8', '8d']]\n",
      "\n",
      "Mã hóa khối 20 :\n",
      "\n",
      "Plain_state 1 : [['94', 'e8', '27', '2d'], ['ea', 'd4', 'da', '6b'], ['df', '39', 'af', '42'], ['54', '8c', '02', '74']]\n",
      "Plain_state 2 : [['cd', 'ca', 'f6', '7a'], ['d4', '0f', '3a', 'd6'], ['e3', '73', '75', '88'], ['ba', '56', '1c', '17']]\n",
      "Plain_state 3 : [['31', '83', '33', '44'], ['a3', '5b', '71', '66'], ['7a', '3e', '48', '52'], ['38', 'ab', 'dc', 'e6']]\n",
      "Plain_state 4 : [['36', '99', '45', 'cb'], ['8f', 'd8', 'f4', 'eb'], ['16', '32', '6b', '20'], ['7e', '93', 'bd', '52']]\n",
      "Plain_state 5 : [['21', '39', 'f6', '54'], ['da', 'fc', '9f', '40'], ['a5', 'a6', '66', '92'], ['f3', 'e9', 'b0', '1e']]\n"
     ]
    },
    {
     "name": "stdout",
     "output_type": "stream",
     "text": [
      "Plain_state 6 : [['5b', 'b9', 'c9', '2b'], ['09', '4d', 'a8', '98'], ['ba', 'ac', 'e8', '86'], ['48', 'f9', '06', 'b6']]\n",
      "Plain_state 7 : [['f7', '49', '13', '73'], ['56', '6d', '1e', '3a'], ['65', 'ab', '31', '33'], ['95', '42', '05', 'e0']]\n",
      "Plain_state 8 : [['5a', 'f6', 'a8', 'a5'], ['b1', '07', '86', 'c5'], ['24', '1e', '3e', '60'], ['d2', 'a0', 'c7', '5d']]\n",
      "Plain_state 9 : [['ed', 'ab', 'e9', 'd3'], ['77', '3e', '17', '1f'], ['ae', '5f', 'b6', '36'], ['c4', 'cd', '76', '97']]\n",
      "Plain_state 10: [['a2', '1d', '5f', 'f9'], ['a8', '25', '19', 'f3'], ['24', '1e', '31', '4c'], ['3b', '21', 'bd', '67']]\n",
      "\n",
      "Mã hóa khối 21 :\n",
      "\n",
      "Plain_state 1 : [['f5', 'a7', '39', '9b'], ['ca', '51', '5a', 'ad'], ['91', '44', 'a4', '5a'], ['56', 'd6', '36', '89']]\n",
      "Plain_state 2 : [['eb', '42', '94', 'ee'], ['8c', 'b4', '6b', '20'], ['44', 'c0', '7a', '2a'], ['aa', 'e0', '2e', 'ae']]\n",
      "Plain_state 3 : [['dc', 'e7', '2e', '2c'], ['fb', '03', '24', '75'], ['bf', '75', '11', 'fe'], ['be', '78', '5a', 'eb']]\n",
      "Plain_state 4 : [['c5', '50', '54', '54'], ['a6', 'a1', '10', '27'], ['8c', 'e4', '71', '26'], ['91', 'd5', '8b', '32']]\n",
      "Plain_state 5 : [['76', '60', 'c0', '63'], ['d2', 'c9', '4d', 'ca'], ['f2', 'd7', '69', '2c'], ['fe', '25', '55', 'c0']]\n",
      "Plain_state 6 : [['7f', '2b', 'ad', '53'], ['68', '0d', '20', '39'], ['59', '0f', '2a', '2f'], ['64', 'a6', '40', 'f1']]\n",
      "Plain_state 7 : [['f7', 'a7', '1a', 'da'], ['96', '4a', '55', '4f'], ['db', '79', 'df', '2f'], ['61', 'c8', 'aa', 'a3']]\n",
      "Plain_state 8 : [['cd', '39', 'd6', 'db'], ['8b', '1f', '95', '1e'], ['5b', '07', 'a7', '74'], ['b2', 'f4', '03', '57']]\n",
      "Plain_state 9 : [['1d', '9c', '11', '13'], ['46', 'dd', 'ee', '74'], ['b1', '66', 'e9', 'ff'], ['07', '1f', 'be', 'b0']]\n",
      "Plain_state 10: [['53', '6e', '0f', '96'], ['07', 'd9', '8f', 'e8'], ['08', '63', 'ad', '1e'], ['e2', '9d', '65', '74']]\n",
      "\n",
      "Mã hóa khối 22 :\n",
      "\n",
      "Plain_state 1 : [['7d', '58', '03', 'e5'], ['44', 'fa', '34', '14'], ['17', '70', 'cb', '75'], ['92', '6e', '4a', 'b0']]\n",
      "Plain_state 2 : [['d0', '02', '1d', 'ef'], ['92', 'ec', 'bf', '89'], ['1b', 'b7', '01', '67'], ['92', 'a0', 'd4', '61']]\n",
      "Plain_state 3 : [['9d', '02', 'be', '6f'], ['16', '72', 'ec', '97'], ['59', '42', '83', '9e'], ['99', 'd4', 'ac', '39']]\n",
      "Plain_state 4 : [['b6', 'b7', '7d', '9f'], ['08', '38', 'c7', 'c8'], ['9c', '7b', '5c', '39'], ['67', 'eb', '08', '92']]\n",
      "Plain_state 5 : [['67', 'ae', '60', '44'], ['d4', 'a1', '1d', '5e'], ['43', 'fc', 'f0', '84'], ['0a', '3f', '87', 'eb']]\n",
      "Plain_state 6 : [['12', '9f', 'e0', 'b3'], ['5b', '51', '95', 'ab'], ['fc', '9a', '53', 'f9'], ['f2', 'f5', '54', 'a1']]\n",
      "Plain_state 7 : [['50', '3b', 'b9', 'c4'], ['8e', '4a', '2e', '37'], ['74', '71', '1e', 'f4'], ['81', '66', 'e4', '52']]\n",
      "Plain_state 8 : [['5d', '27', '30', '6e'], ['33', 'a3', '45', 'd8'], ['91', '98', '86', '1a'], ['d1', '96', '3a', '55']]\n",
      "Plain_state 9 : [['1e', '6d', 'e8', '9c'], ['e2', '0e', '14', '59'], ['4a', '9e', 'b4', 'd7'], ['18', '4d', 'b1', '51']]\n",
      "Plain_state 10: [['85', '04', '9c', 'a0'], ['c5', 'e1', 'e9', '4b'], ['16', '40', 'b4', '47'], ['8a', '7f', 'b7', '6c']]\n",
      "\n",
      "Mã hóa khối 23 :\n",
      "\n",
      "Plain_state 1 : [['70', 'da', '9e', 'ce'], ['b2', 'd5', '6d', 'ec'], ['1f', '0e', 'bb', 'b5'], ['78', '79', 'fd', 'ae']]\n",
      "Plain_state 2 : [['13', 'f7', '69', 'db'], ['0f', 'e0', '80', '21'], ['44', '71', 'a4', '06'], ['44', '0d', '8a', 'e6']]\n",
      "Plain_state 3 : [['a2', '6f', '55', 'a0'], ['2a', '63', '19', '2c'], ['74', '25', '54', '87'], ['3f', '00', '53', 'd0']]\n",
      "Plain_state 4 : [['06', '93', '87', '80'], ['56', '70', '56', 'ca'], ['f8', '7b', '9a', '42'], ['36', 'e7', '5c', 'd9']]\n",
      "Plain_state 5 : [['57', '54', '66', '77'], ['a1', 'b8', '52', '90'], ['95', '26', '66', '88'], ['c7', 'f2', 'de', '0e']]\n",
      "Plain_state 6 : [['aa', '65', 'c3', 'af'], ['82', '55', '95', 'af'], ['58', '4f', '0a', 'c6'], ['c3', 'ab', 'd4', '14']]\n",
      "Plain_state 7 : [['af', '49', 'bd', '47'], ['e2', 'b4', 'd4', '35'], ['98', 'e9', 'e8', 'fc'], ['58', 'db', 'a2', '6c']]\n",
      "Plain_state 8 : [['5d', 'cb', '78', '02'], ['19', '0a', '00', 'cd'], ['87', '3b', '94', 'c3'], ['1b', 'dd', '66', '41']]\n",
      "Plain_state 9 : [['b0', '62', 'c8', '69'], ['60', '6c', 'f9', 'bc'], ['ea', 'a5', '67', '3c'], ['ce', 'fa', '66', '24']]\n",
      "Plain_state 10: [['10', 'ff', '94', '47'], ['8d', 'ec', '12', '6c'], ['47', '8e', 'c7', 'e9'], ['ac', 'e9', 'd4', '89']]\n",
      "\n",
      "Mã hóa khối 24 :\n",
      "\n",
      "Plain_state 1 : [['35', 'bf', 'ae', 'a8'], ['90', '79', '45', '1b'], ['71', '74', 'a9', 'd8'], ['aa', '97', 'e7', 'e3']]\n",
      "Plain_state 2 : [['8e', 'ff', '6d', 'f4'], ['63', 'd7', 'ae', 'b3'], ['4e', '25', '9f', 'b0'], ['63', 'e1', 'a6', 'a8']]\n",
      "Plain_state 3 : [['9e', '2f', '35', 'e9'], ['c8', '25', 'b6', '6a'], ['38', '8b', '75', '0a'], ['c7', 'ef', '1c', 'b7']]\n",
      "Plain_state 4 : [['57', '34', '63', '03'], ['c5', '14', 'a2', '49'], ['0f', '40', 'f2', 'd6'], ['7d', 'f0', 'ed', 'd0']]\n",
      "Plain_state 5 : [['ad', '3b', '54', '3b'], ['5e', '68', '92', 'e9'], ['70', '41', '5b', 'bb'], ['2e', 'c7', '98', 'fb']]\n",
      "Plain_state 6 : [['f8', '43', 'c7', '96'], ['86', '2d', '04', '10'], ['12', 'e1', '9a', 'eb'], ['0a', '3c', '0d', 'c7']]\n",
      "Plain_state 7 : [['e1', 'aa', '95', 'e8'], ['be', '48', 'fa', 'e6'], ['1e', 'd3', 'c7', '1e'], ['b6', '12', 'f0', '82']]\n",
      "Plain_state 8 : [['20', '4b', '59', '9e'], ['70', '36', '74', '2f'], ['37', '07', '58', '8f'], ['56', 'a1', '42', '40']]\n",
      "Plain_state 9 : [['39', '0f', '44', '5a'], ['7b', 'fa', 'e1', 'e8'], ['3a', 'e4', '14', '7f'], ['b1', 'f2', 'ca', 'e1']]\n",
      "Plain_state 10: [['e5', '82', 'eb', '89'], ['7c', '83', '55', '2b'], ['40', '2a', '34', '17'], ['ef', '35', 'b5', 'b0']]\n",
      "\n",
      "Mã hóa khối 25 :\n",
      "\n",
      "Plain_state 1 : [['3e', '1a', '5e', '3b'], ['37', '2e', '35', '9e'], ['b4', '9a', '53', '5b'], ['f1', 'e3', 'dc', '3c']]\n",
      "Plain_state 2 : [['90', '76', 'a7', 'ce'], ['c0', '6f', '3a', 'de'], ['ba', '59', 'bc', 'b4'], ['3c', 'e8', '02', '5d']]\n",
      "Plain_state 3 : [['ad', '56', '04', '7d'], ['2a', '56', 'f9', '66'], ['20', '46', '9d', '9f'], ['9b', '65', '54', '19']]\n",
      "Plain_state 4 : [['47', '8e', '69', '0d'], ['2b', 'e9', '93', '5c'], ['8c', '52', '4b', '89'], ['5e', 'af', 'f1', 'ad']]\n",
      "Plain_state 5 : [['a8', 'b8', '0b', '22'], ['b3', '86', 'd0', 'ae'], ['23', 'd5', '2b', '98'], ['cf', '02', '1a', '4c']]\n",
      "Plain_state 6 : [['bb', '73', '70', 'ea'], ['e2', '45', 'f1', 'c9'], ['c5', '08', '5f', '27'], ['7d', '6d', 'a9', 'e3']]\n",
      "Plain_state 7 : [['cd', '38', '04', '7a'], ['4d', '04', 'df', '7b'], ['22', 'bc', '73', 'c1'], ['4f', '6b', '34', 'bd']]\n",
      "Plain_state 8 : [['71', 'e7', '95', '6a'], ['3a', '9b', 'ca', 'ed'], ['58', '4d', '4e', '9c'], ['86', 'e2', '40', '09']]\n",
      "Plain_state 9 : [['6f', 'fe', 'd3', '22'], ['84', '01', '47', '91'], ['85', '23', '57', 'bf'], ['62', 'd5', '23', '65']]\n",
      "Plain_state 10: [['5f', 'd3', '4a', '3c'], ['02', 'cc', '07', '06'], ['57', 'a0', '49', '0d'], ['8d', 'f8', 'ed', '6a']]\n",
      "\n",
      "Mã hóa khối 26 :\n",
      "\n",
      "Plain_state 1 : [['6a', 'ea', '16', 'bf'], ['b6', 'da', 'b4', 'cc'], ['b1', '52', '47', 'd3'], ['35', 'ab', 'd6', '7a']]\n",
      "Plain_state 2 : [['3d', 'ec', 'b8', '4c'], ['3a', 'aa', '93', 'be'], ['fa', '9b', '74', '97'], ['79', 'e7', 'c7', '84']]\n",
      "Plain_state 3 : [['cb', '08', '87', '61'], ['37', 'a3', '98', '19'], ['1b', '62', 'e5', 'ad'], ['79', '2e', '48', '5e']]\n",
      "Plain_state 4 : [['95', '77', 'c2', 'b7'], ['bc', 'eb', 'c8', '7f'], ['3a', '61', 'cc', 'ed'], ['08', '20', 'a5', '92']]\n",
      "Plain_state 5 : [['87', '0e', 'e8', '07'], ['73', '5b', '7c', 'bd'], ['fd', '51', '11', '96'], ['f6', '07', 'fb', 'd3']]\n",
      "Plain_state 6 : [['b1', '86', 'ef', '1e'], ['ab', 'a2', '7a', '27'], ['c2', '50', '5d', '94'], ['12', '46', '07', 'b0']]\n",
      "Plain_state 7 : [['00', 'da', '6e', '3c'], ['e4', 'f7', '6e', 'ea'], ['0a', '6b', 'a2', '95'], ['f0', 'b3', '16', '90']]\n",
      "Plain_state 8 : [['cc', 'c8', '8e', '08'], ['75', 'f5', 'b7', '4f'], ['56', '8c', '83', 'b3'], ['35', '1b', 'ec', 'e4']]\n",
      "Plain_state 9 : [['02', 'df', 'ec', 'e0'], ['d9', '69', '1e', '92'], ['93', '12', 'b5', '74'], ['37', '30', 'e2', 'd4']]\n",
      "Plain_state 10: [['80', '56', 'c4', '39'], ['68', '23', 'b9', '74'], ['1c', 'a7', 'e1', 'c3'], ['bd', 'dd', '3f', 'f0']]\n",
      "\n",
      "Mã hóa khối 27 :\n",
      "\n",
      "Plain_state 1 : [['45', '85', '99', '00'], ['98', 'a0', '86', '3a'], ['93', 'd6', 'd4', '83'], ['1e', 'df', '09', 'ed']]\n",
      "Plain_state 2 : [['40', '59', '22', 'a2'], ['b7', '3c', '25', '71'], ['af', '47', '93', '73'], ['d9', 'e9', '3f', '65']]\n",
      "Plain_state 3 : [['02', '68', '44', '3e'], ['02', '24', '4d', '43'], ['c4', '2e', 'c9', '3e'], ['8f', '9e', '1a', '28']]\n",
      "Plain_state 4 : [['69', '07', '2a', 'ef'], ['66', '7d', 'a2', '82'], ['cb', '7c', '14', '92'], ['84', 'dc', '2d', '58']]\n",
      "Plain_state 5 : [['94', '1c', '3b', '84'], ['6d', 'e7', 'e8', '8a'], ['8a', '36', '7c', '44'], ['b0', '7f', '35', 'b4']]\n",
      "Plain_state 6 : [['4e', 'b4', '6e', 'b3'], ['b2', '88', '81', '8b'], ['d2', 'db', '9e', '8c'], ['1a', '80', '1e', 'f5']]\n",
      "Plain_state 7 : [['8a', '12', 'fa', 'b5'], ['c3', 'b0', '85', '76'], ['22', 'ff', '2d', '10'], ['f6', '76', 'c9', 'be']]\n",
      "Plain_state 8 : [['50', '23', '8a', 'c5'], ['e4', 'eb', 'f4', '09'], ['57', 'a0', '87', '36'], ['e3', '0a', '97', 'e0']]\n",
      "Plain_state 9 : [['50', '47', '95', '37'], ['6d', 'd2', '43', '60'], ['fd', '5f', 'cd', 'ef'], ['15', '62', '3f', '4e']]\n",
      "Plain_state 10: [['a4', '1a', 'ac', '5e'], ['61', '25', '54', '0f'], ['94', '09', '05', '5c'], ['7e', 'e3', '57', 'bd']]\n",
      "\n",
      "Mã hóa khối 28 :\n",
      "\n",
      "Plain_state 1 : [['de', '3d', '7f', '09'], ['2c', '34', '89', '0f'], ['59', '1b', '1c', 'ef'], ['48', '54', '72', '32']]\n",
      "Plain_state 2 : [['17', 'd0', '80', 'f7'], ['11', '18', '6f', 'f4'], ['92', '85', '43', '3f'], ['82', 'bf', '27', '30']]\n",
      "Plain_state 3 : [['ae', '05', 'b7', '3c'], ['e6', 'e3', 'ce', '14'], ['d0', 'ca', '71', '14'], ['78', '8d', 'a7', '81']]\n",
      "Plain_state 4 : [['7b', '60', '2a', '68'], ['e7', '4e', '12', '9b'], ['bb', '91', '6a', '19'], ['53', 'bf', 'c4', 'c4']]\n",
      "Plain_state 5 : [['da', '1a', '42', '33'], ['ce', 'b4', 'f8', '02'], ['f5', 'c3', '0e', 'c0'], ['98', '72', 'd9', 'b2']]\n",
      "Plain_state 6 : [['8e', '9f', 'ba', 'e1'], ['85', '0b', 'ff', 'e2'], ['93', '3c', '08', '71'], ['7a', '89', 'd6', 'b0']]\n",
      "Plain_state 7 : [['f6', 'ad', '56', '39'], ['7f', 'b6', 'c0', '6a'], ['80', '5a', '0c', 'fb'], ['21', '4b', '81', 'ef']]\n",
      "Plain_state 8 : [['9f', '4d', 'c0', 'ec'], ['f2', 'f3', '4b', 'fa'], ['cb', '76', '3f', 'b7'], ['8a', 'bf', '7a', 'da']]\n",
      "Plain_state 9 : [['b8', '0c', 'fc', '45'], ['ff', '07', '67', '01'], ['2c', 'be', '01', 'd0'], ['3f', '24', '62', '75']]\n",
      "Plain_state 10: [['9b', '6a', '6d', 'ec'], ['4b', '44', '8b', 'fb'], ['b1', '95', '9f', 'f0'], ['52', 'bd', 'c8', '12']]\n",
      "\n",
      "Mã hóa khối 29 :\n",
      "\n",
      "Plain_state 1 : [['35', '61', 'ef', '11'], ['a1', 'b0', 'a8', '23'], ['82', '7e', '4f', '94'], ['99', '13', 'e3', 'ab']]\n",
      "Plain_state 2 : [['59', 'd7', '07', '14'], ['a1', '93', '4c', '21'], ['83', 'a0', '2c', 'bc'], ['3a', 'da', '85', 'a3']]\n",
      "Plain_state 3 : [['2e', '6f', '39', '77'], ['cd', 'c2', '12', 'cc'], ['26', '8d', '5b', '39'], ['56', '6a', '63', 'f0']]\n",
      "Plain_state 4 : [['8c', 'e8', '7f', 'b9'], ['43', 'c3', '7f', '7c'], ['45', 'cf', '17', '16'], ['bd', '01', 'ad', '99']]\n",
      "Plain_state 5 : [['53', 'a2', 'f4', 'f0'], ['4e', 'bf', '41', '2f'], ['49', 'f2', '9c', '1c'], ['f8', 'cd', '9d', '7d']]\n",
      "Plain_state 6 : [['c8', '63', '2c', '4f'], ['00', '08', 'fb', '47'], ['df', 'cc', 'b3', 'a7'], ['23', 'de', 'bc', 'af']]\n",
      "Plain_state 7 : [['e1', '13', 'bf', '50'], ['98', 'cb', '2d', 'a6'], ['6c', 'db', 'ad', '72'], ['44', '23', '75', '2c']]\n",
      "Plain_state 8 : [['c6', '46', '14', '44'], ['18', '80', '22', '49'], ['d1', '2c', '34', '6b'], ['53', '7b', '61', 'ff']]\n",
      "Plain_state 9 : [['11', '0e', '4a', 'db'], ['8c', '3b', '04', 'a0'], ['43', '1b', 'b3', 'f6'], ['24', '68', '69', 'f5']]\n",
      "Plain_state 10: [['75', '4d', '7c', '97'], ['39', '45', 'd8', '2c'], ['da', 'e6', 'f9', '6c'], ['11', 'e8', 'bf', '20']]\n",
      "\n",
      "Mã hóa khối 30 :\n",
      "\n",
      "Plain_state 1 : [['a1', '0d', '2b', '1e'], ['71', '6b', '43', '30'], ['10', '25', '81', '97'], ['29', 'e6', '1b', '59']]\n",
      "Plain_state 2 : [['98', '72', 'd0', 'ba'], ['99', 'a8', '7d', '00'], ['28', 'd4', '3c', '55'], ['96', '38', 'b8', 'd1']]\n",
      "Plain_state 3 : [['a3', '5f', 'd9', '17'], ['78', '4d', '99', 'fc'], ['56', 'af', '1b', '88'], ['eb', '1e', '3a', '71']]\n",
      "Plain_state 4 : [['12', 'ca', 'c4', 'fa'], ['53', '02', 'a3', '2a'], ['85', 'fb', '79', '66'], ['55', '28', 'bd', '86']]\n",
      "Plain_state 5 : [['15', 'dd', '69', '4c'], ['bb', '08', '7b', 'b1'], ['43', '27', 'ae', '7b'], ['69', '89', 'c3', '33']]\n",
      "Plain_state 6 : [['f5', 'd5', '90', 'f2'], ['8b', '72', '6f', '77'], ['28', 'ce', '78', '39'], ['41', 'cb', '7c', '44']]\n",
      "Plain_state 7 : [['de', 'f7', 'de', '27'], ['07', '9c', '4e', 'eb'], ['61', '13', 'd8', '2e'], ['ef', 'd1', 'af', '1b']]\n",
      "Plain_state 8 : [['65', 'e3', 'ba', 'e2'], ['29', '38', '0c', 'd2'], ['44', '51', 'f5', '3d'], ['79', 'e6', 'd6', 'a8']]\n",
      "Plain_state 9 : [['97', 'b5', 'f9', '4c'], ['fd', 'c0', '00', '1c'], ['63', 'e7', 'ac', '3f'], ['7a', '4a', '4b', '8e']]\n",
      "Plain_state 10: [['7f', '15', '80', '68'], ['09', '7e', '92', 'bc'], ['3b', '75', 'b6', '10'], ['fd', '96', '2e', '17']]\n",
      "\n",
      "Mã hóa khối 31 :\n",
      "\n",
      "Plain_state 1 : [['24', '6b', '4d', 'c1'], ['74', '99', 'e9', 'dd'], ['42', '19', '9d', 'fc'], ['7b', '50', '67', '09']]\n",
      "Plain_state 2 : [['a0', '73', 'a4', 'fa'], ['fd', '20', 'ed', '86'], ['54', '60', '77', '3a'], ['5a', 'c3', 'd4', '9a']]\n",
      "Plain_state 3 : [['f3', 'b7', 'a7', '9a'], ['59', '69', '83', '3c'], ['1b', '85', '3d', 'ea'], ['2b', '2c', '10', '9e']]\n",
      "Plain_state 4 : [['12', 'd2', '31', '2a'], ['96', '24', '76', '87'], ['8e', '03', '5b', '98'], ['8e', 'b9', '02', '4c']]\n"
     ]
    },
    {
     "name": "stdout",
     "output_type": "stream",
     "text": [
      "Plain_state 5 : [['34', 'b8', '9a', '58'], ['18', '42', '2b', 'c4'], ['cb', 'e9', 'e2', 'b4'], ['a7', 'd6', '1c', '1e']]\n",
      "Plain_state 6 : [['9e', '99', 'fd', '28'], ['99', '04', '40', '58'], ['44', '7e', 'c9', '95'], ['80', 'e8', '20', '8e']]\n",
      "Plain_state 7 : [['b1', 'c4', '45', 'dc'], ['28', 'f0', '6c', '3b'], ['03', 'ec', 'a1', 'ca'], ['c6', '9e', '1d', 'f5']]\n",
      "Plain_state 8 : [['38', '2e', '40', '15'], ['89', '82', '31', '20'], ['50', '31', 'af', 'ca'], ['09', 'a1', 'f8', '94']]\n",
      "Plain_state 9 : [['40', '8d', 'b9', 'c2'], ['b5', 'ed', '39', '22'], ['d3', 'd2', 'bf', 'a2'], ['05', 'a5', '5b', 'f3']]\n",
      "Plain_state 10: [['fe', 'fa', '19', '7c'], ['88', '5f', '18', 'b0'], ['a6', 'a5', '79', '1f'], ['4c', '1e', '5f', '58']]\n",
      "\n",
      "Mã hóa khối 32 :\n",
      "\n",
      "Plain_state 1 : [['fa', '9c', '31', 'f7'], ['54', '46', '18', 'db'], ['26', '61', '0f', '07'], ['11', '23', '51', 'e0']]\n",
      "Plain_state 2 : [['99', '83', '60', '90'], ['8b', '08', 'fc', '04'], ['3a', '45', '19', 'ed'], ['39', '82', '34', '9c']]\n",
      "Plain_state 3 : [['3a', 'a9', 'c6', 'e2'], ['4f', 'da', '23', 'f3'], ['28', '59', '48', 'c2'], ['fd', 'a7', '6a', '46']]\n",
      "Plain_state 4 : [['de', 'd6', '0b', 'df'], ['04', 'b0', '8e', '82'], ['da', '07', '17', '3c'], ['39', '0f', 'af', '57']]\n",
      "Plain_state 5 : [['54', 'e7', '80', 'c3'], ['70', '2e', '66', '24'], ['df', 'cc', '43', 'a2'], ['f8', '95', 'fa', '20']]\n",
      "Plain_state 6 : [['8e', 'c3', '93', '6e'], ['70', 'de', '5c', '2b'], ['7d', 'e9', '00', 'f0'], ['dc', 'f4', '98', 'e6']]\n",
      "Plain_state 7 : [['96', '5d', '7d', '8e'], ['3b', '2d', '21', 'b0'], ['af', '58', 'dc', '7c'], ['ee', '2d', 'e1', 'fc']]\n",
      "Plain_state 8 : [['96', '4f', 'c5', 'b1'], ['0a', '7c', '41', '9c'], ['ae', '23', '48', '84'], ['13', '15', 'd9', '1e']]\n",
      "Plain_state 9 : [['0b', '31', '8b', 'e8'], ['f3', 'f9', '58', 'd5'], ['dd', '30', '9d', '76'], ['56', '4f', '67', 'd0']]\n",
      "Plain_state 10: [['dc', '36', '4f', '01'], ['50', 'ee', 'a4', '0e'], ['01', '27', '12', '8f'], ['96', '84', '27', '5a']]\n",
      "\n",
      "Mã hóa khối 33 :\n",
      "\n",
      "Plain_state 1 : [['b6', '61', '37', 'fe'], ['a7', 'bf', '92', 'b8'], ['95', 'd6', 'a5', '2e'], ['5c', '7d', '57', '3c']]\n",
      "Plain_state 2 : [['d3', 'de', 'af', '03'], ['01', '10', 'f8', 'ae'], ['63', '03', 'c3', 'a4'], ['f7', 'e1', '15', 'ff']]\n",
      "Plain_state 3 : [['16', '13', '18', 'ea'], ['a8', '69', 'd8', '52'], ['47', '19', 'ab', '21'], ['ec', '30', '3c', 'f0']]\n",
      "Plain_state 4 : [['44', 'd0', '63', 'a4'], ['5f', 'f7', '3f', '80'], ['15', '05', 'fe', 'c0'], ['60', 'c3', '66', 'a0']]\n",
      "Plain_state 5 : [['22', '82', '49', '60'], ['7e', '5d', '03', '32'], ['25', 'c7', 'd7', '9f'], ['cb', 'a5', '95', '35']]\n",
      "Plain_state 6 : [['41', '97', '16', '8b'], ['5a', '8a', '64', 'bb'], ['b3', '04', '45', 'f8'], ['5b', '86', 'e9', '12']]\n",
      "Plain_state 7 : [['56', '51', '57', 'db'], ['2b', '4b', '6f', '71'], ['06', '8a', 'b5', '87'], ['be', '13', 'a6', '08']]\n",
      "Plain_state 8 : [['ba', 'cd', 'b2', 'f1'], ['6c', '98', '1e', '3a'], ['96', 'd7', '64', '37'], ['ea', '4a', '61', '49']]\n",
      "Plain_state 9 : [['61', '83', '40', '91'], ['56', '82', '53', 'ac'], ['70', 'b7', 'bd', '48'], ['c6', '0a', '09', '9c']]\n",
      "Plain_state 10: [['18', 'bc', '6b', 'af'], ['ec', '43', '20', '14'], ['91', 'c4', '26', '1d'], ['93', 'af', 'a0', '30']]\n",
      "\n",
      "Mã hóa khối 34 :\n",
      "\n",
      "Plain_state 1 : [['91', '1b', 'ce', '58'], ['bc', 'f3', '3a', '2f'], ['47', 'e1', '71', '17'], ['01', '0e', '46', '8d']]\n",
      "Plain_state 2 : [['4a', '59', 'f5', '9e'], ['b1', 'e7', 'a5', '53'], ['f8', '6b', 'b4', '96'], ['55', 'dc', 'be', 'b3']]\n",
      "Plain_state 3 : [['57', '9a', '26', '2a'], ['50', 'a7', '0d', '86'], ['3c', 'ec', '51', '07'], ['20', '03', '80', '6f']]\n",
      "Plain_state 4 : [['1f', '77', 'cb', 'de'], ['0c', '5a', '5e', 'd0'], ['1c', '1a', 'b2', 'b0'], ['48', 'd2', 'e5', '28']]\n",
      "Plain_state 5 : [['b6', 'b5', '20', 'ff'], ['e2', '94', 'c8', 'ea'], ['5b', 'a5', '86', 'd5'], ['30', '1c', '2f', 'ba']]\n",
      "Plain_state 6 : [['7a', '2a', '97', '17'], ['2e', 'fd', 'e0', '6e'], ['22', '06', '2d', 'b7'], ['77', '7c', '7a', 'c1']]\n",
      "Plain_state 7 : [['9d', '2c', '9b', 'd5'], ['9b', '7f', 'a2', '23'], ['a7', 'e3', '05', 'ef'], ['c0', '10', '7b', '43']]\n",
      "Plain_state 8 : [['48', '13', '25', '50'], ['b3', '16', '4b', '0b'], ['f8', 'c5', 'ea', '8b'], ['63', '60', 'a9', 'cc']]\n",
      "Plain_state 9 : [['81', '00', 'e4', '45'], ['01', '42', 'b3', '80'], ['60', 'd9', '9c', '63'], ['03', '12', 'de', '4c']]\n",
      "Plain_state 10: [['fb', '83', 'cf', '58'], ['21', 'df', '3c', 'fb'], ['10', '6a', '46', '41'], ['5c', '20', '20', '99']]\n"
     ]
    }
   ],
   "source": [
    "List_cipher_text = []\n",
    "for i in range(len(text_hex)):\n",
    "    print('\\nMã hóa khối',i+1,':\\n')\n",
    "    List_cipher_text.append(AES.encrypt(text_hex[i]))\n"
   ]
  },
  {
   "cell_type": "code",
   "execution_count": 42,
   "metadata": {},
   "outputs": [
    {
     "name": "stdout",
     "output_type": "stream",
     "text": [
      "cipher_text 1 : 0xf105d4731d41c0674b4acd81e1839d21\n",
      "cipher_text 2 : 0x149d3ca657ee302fee97fe084383af30\n",
      "cipher_text 3 : 0x825253960598a8d6ca97ca34e722b152\n",
      "cipher_text 4 : 0x970c02ebaa6ddf9b970c6c9cc37b9d9e\n",
      "cipher_text 5 : 0x81fafbcf29d5944afee76f0f0990adf5\n",
      "cipher_text 6 : 0x635e08f2408d5f246b774120c2d64117\n",
      "cipher_text 7 : 0x79ed384a66c063e2fdebcd7174913b06\n",
      "cipher_text 8 : 0xa9bad7f9389858a1886c1e22bfe5f3e4\n",
      "cipher_text 9 : 0xc44c18aa297ca5ee4f7290df3253ac13\n",
      "cipher_text 10 : 0x31de289c270bc770dde4fa51a843be95\n",
      "cipher_text 11 : 0x1d4b5da73ae284fd4e5271fb9df0b97\n",
      "cipher_text 12 : 0x57c2aa964877676b50496bbd1b73b763\n",
      "cipher_text 13 : 0xee895fb3bf8e4f1be5599758bfbcb2e5\n",
      "cipher_text 14 : 0x936e1359fcbdda803ef191e07c333d2\n",
      "cipher_text 15 : 0x8cca60c1db08adf915bed651aefa307e\n",
      "cipher_text 16 : 0xedcb73fa95b174d483a9cfcdd8c10cc7\n",
      "cipher_text 17 : 0x39abf80e0b7c61cf0fd6573c2ceb396d\n",
      "cipher_text 18 : 0x3af80497a812601403352e4792b82ce8\n",
      "cipher_text 19 : 0xef4a0ea2ace03240bef6c836da49c88d\n",
      "cipher_text 20 : 0xa21d5ff9a82519f3241e314c3b21bd67\n",
      "cipher_text 21 : 0x536e0f9607d98fe80863ad1ee29d6574\n",
      "cipher_text 22 : 0x85049ca0c5e1e94b1640b4478a7fb76c\n",
      "cipher_text 23 : 0x10ff94478dec126c478ec7e9ace9d489\n",
      "cipher_text 24 : 0xe582eb897c83552b402a3417ef35b5b0\n",
      "cipher_text 25 : 0x5fd34a3c02cc070657a0490d8df8ed6a\n",
      "cipher_text 26 : 0x8056c4396823b9741ca7e1c3bddd3ff0\n",
      "cipher_text 27 : 0xa41aac5e6125540f9409055c7ee357bd\n",
      "cipher_text 28 : 0x9b6a6dec4b448bfbb1959ff052bdc812\n",
      "cipher_text 29 : 0x754d7c973945d82cdae6f96c11e8bf20\n",
      "cipher_text 30 : 0x7f158068097e92bc3b75b610fd962e17\n",
      "cipher_text 31 : 0xfefa197c885f18b0a6a5791f4c1e5f58\n",
      "cipher_text 32 : 0xdc364f0150eea40e0127128f9684275a\n",
      "cipher_text 33 : 0x18bc6bafec43201491c4261d93afa030\n",
      "cipher_text 34 : 0xfb83cf5821df3cfb106a46415c202099\n"
     ]
    }
   ],
   "source": [
    "#In ra cipher_text của từng khối dưới dạng hex\n",
    "for i in range(len(List_cipher_text)):\n",
    "     print('cipher_text',i+1,':',hex(List_cipher_text[i]))"
   ]
  },
  {
   "cell_type": "code",
   "execution_count": 43,
   "metadata": {},
   "outputs": [
    {
     "data": {
      "text/plain": [
       "'f105d4731d41c0674b4acd81e1839d21149d3ca657ee302fee97fe084383af30825253960598a8d6ca97ca34e722b152970c02ebaa6ddf9b970c6c9cc37b9d9e81fafbcf29d5944afee76f0f0990adf5635e08f2408d5f246b774120c2d6411779ed384a66c063e2fdebcd7174913b06a9bad7f9389858a1886c1e22bfe5f3e4c44c18aa297ca5ee4f7290df3253ac1331de289c270bc770dde4fa51a843be9501d4b5da73ae284fd4e5271fb9df0b9757c2aa964877676b50496bbd1b73b763ee895fb3bf8e4f1be5599758bfbcb2e50936e1359fcbdda803ef191e07c333d28cca60c1db08adf915bed651aefa307eedcb73fa95b174d483a9cfcdd8c10cc739abf80e0b7c61cf0fd6573c2ceb396d3af80497a812601403352e4792b82ce8ef4a0ea2ace03240bef6c836da49c88da21d5ff9a82519f3241e314c3b21bd67536e0f9607d98fe80863ad1ee29d657485049ca0c5e1e94b1640b4478a7fb76c10ff94478dec126c478ec7e9ace9d489e582eb897c83552b402a3417ef35b5b05fd34a3c02cc070657a0490d8df8ed6a8056c4396823b9741ca7e1c3bddd3ff0a41aac5e6125540f9409055c7ee357bd9b6a6dec4b448bfbb1959ff052bdc812754d7c973945d82cdae6f96c11e8bf207f158068097e92bc3b75b610fd962e17fefa197c885f18b0a6a5791f4c1e5f58dc364f0150eea40e0127128f9684275a18bc6bafec43201491c4261d93afa030fb83cf5821df3cfb106a46415c202099'"
      ]
     },
     "execution_count": 43,
     "metadata": {},
     "output_type": "execute_result"
    }
   ],
   "source": [
    "# Đầu ra mã hóa 34 khối plaintext\n",
    "Ciphertext= ''\n",
    "for i in range(len(List_cipher_text)):\n",
    "    Ciphertext += hex(List_cipher_text[i])[2:].zfill(32)\n",
    "Ciphertext    "
   ]
  },
  {
   "cell_type": "markdown",
   "metadata": {},
   "source": [
    "<h1 style=\"color:blue\"> IV. Giải mã (Original Design)</h1>\n",
    "<img align=\"between\" src=\"De.PNG\" width=\"600\"/>"
   ]
  },
  {
   "cell_type": "code",
   "execution_count": 44,
   "metadata": {},
   "outputs": [
    {
     "name": "stdout",
     "output_type": "stream",
     "text": [
      "\n",
      "Giải mã khối 1 :\n",
      "\n",
      "Plain_state 1 : [['3b', '5a', '44', '59'], ['24', '06', 'c7', '5d'], ['45', '7e', 'df', '84'], ['96', '56', '6e', '83']]\n",
      "Plain_state 2 : [['38', '54', 'a5', '88'], ['90', 'da', 'a0', 'c2'], ['3a', 'fc', '22', '16'], ['ce', 'e7', '61', '9b']]\n",
      "Plain_state 3 : [['4f', '71', 'a3', 'b6'], ['84', '1f', '4a', '8c'], ['69', 'ce', '2e', 'aa'], ['ae', 'c5', 'b3', '01']]\n",
      "Plain_state 4 : [['1a', '13', '40', 'e3'], ['28', 'd5', '41', '36'], ['57', '5f', '8a', 'fe'], ['4b', '37', 'dd', '5c']]\n",
      "Plain_state 5 : [['0e', '83', '74', '42'], ['a6', '23', '6d', '8d'], ['44', '4a', '9c', 'c3'], ['98', '06', '31', 'f3']]\n",
      "Plain_state 6 : [['33', 'ba', 'f3', 'a3'], ['88', 'b1', '2d', 'e0'], ['8f', '62', '79', 'b3'], ['33', '7d', 'ec', '13']]\n",
      "Plain_state 7 : [['4e', '05', 'c0', '92'], ['d1', 'f5', '23', 'f6'], ['f5', '60', '8c', '8a'], ['3b', '84', 'f2', '66']]\n",
      "Plain_state 8 : [['93', 'b6', '1d', 'ed'], ['94', '8a', 'f2', '4d'], ['3a', '05', 'cf', '18'], ['75', 'a1', '2f', '43']]\n",
      "Plain_state 9 : [['77', 'f2', 'f1', '9c'], ['9a', 'a4', 'fd', '20'], ['59', '1a', 'fe', '43'], ['30', '6f', 'ad', 'af']]\n",
      "Plain_state 10: [['54', '6f', '69', '20'], ['79', '65', '75', '20'], ['74', '69', '65', '6e'], ['67', '20', '6e', '75']]\n",
      "\n",
      "Giải mã khối 2 :\n",
      "\n",
      "Plain_state 1 : [['66', 'f3', '17', 'b8'], ['d3', '15', '4b', 'c0'], ['70', '26', 'c5', '11'], ['20', '65', '53', 'd7']]\n",
      "Plain_state 2 : [['d8', '76', 'e6', 'ec'], ['0b', '4c', '26', 'c7'], ['9e', 'e4', 'c1', '36'], ['7f', '63', '23', '56']]\n",
      "Plain_state 3 : [['69', '74', 'e1', 'ec'], ['0f', 'b0', 'ae', '87'], ['27', 'f2', '74', '55'], ['1c', 'e6', 'fa', 'd5']]\n",
      "Plain_state 4 : [['db', 'c2', 'cb', 'ef'], ['47', '1b', 'da', '8e'], ['f3', 'a4', 'fb', '13'], ['ee', '35', 'ef', '43']]\n",
      "Plain_state 5 : [['37', 'a4', '94', '65'], ['af', 'a5', 'c7', '5c'], ['62', 'fe', '54', '24'], ['60', '14', 'da', '90']]\n",
      "Plain_state 6 : [['50', '03', '5d', '7e'], ['3a', '99', '93', '87'], ['e4', 'de', 'ef', '01'], ['13', '01', 'f3', 'ba']]\n",
      "Plain_state 7 : [['01', 'af', '78', '5b'], ['a2', '67', 'bd', '16'], ['f5', '6f', '3f', 'f5'], ['a3', '5a', 'ad', '8f']]\n",
      "Plain_state 8 : [['c4', 'b0', 'b4', '5f'], ['dc', '2f', '72', 'e2'], ['8e', '67', 'a3', 'a1'], ['f4', 'c8', '8d', '7b']]\n",
      "Plain_state 9 : [['12', '30', '3f', '6f'], ['fd', '20', '93', '63'], ['fa', '1a', '6e', 'ca'], ['6f', '67', '85', 'a4']]\n",
      "Plain_state 10: [['6f', '63', '20', '74'], ['6f', '69', '0a', '54'], ['75', '20', '6b', '68'], ['69', '20', '6d', '6f']]\n",
      "\n",
      "Giải mã khối 3 :\n",
      "\n",
      "Plain_state 1 : [['56', 'd7', 'fa', '2b'], ['02', 'b1', '9e', 'a6'], ['35', 'fd', 'e8', 'a0'], ['6c', '59', 'e3', '28']]\n",
      "Plain_state 2 : [['b1', 'f8', '9d', 'a6'], ['a7', 'd3', '46', '9d'], ['29', '0c', 'ec', '44'], ['a4', '18', 'df', '66']]\n",
      "Plain_state 3 : [['d3', '84', 'd4', 'c6'], ['2e', 'c9', '52', 'a5'], ['bf', '29', 'fe', '11'], ['32', 'b6', '4a', 'bf']]\n",
      "Plain_state 4 : [['ab', '43', 'a3', 'b2'], ['a7', '67', 'a7', '94'], ['bf', 'e5', 'a2', 'd8'], ['a0', '21', '17', '7e']]\n",
      "Plain_state 5 : [['68', '34', 'b5', 'c0'], ['a3', '60', '86', 'ce'], ['d7', 'd8', '47', 'a6'], ['98', '50', '85', '36']]\n",
      "Plain_state 6 : [['66', '88', 'e1', '6d'], ['1b', '8d', '87', '87'], ['32', '7c', '81', '83'], ['78', '68', '3d', '6b']]\n",
      "Plain_state 7 : [['55', 'd6', '1a', 'a5'], ['8a', 'a9', 'b4', 'e0'], ['16', '8f', '71', '52'], ['11', '87', 'ca', 'a8']]\n",
      "Plain_state 8 : [['c7', '42', '66', '62'], ['1f', '33', '11', 'ed'], ['c0', '92', 'aa', 'b8'], ['8f', '03', '50', '84']]\n",
      "Plain_state 9 : [['75', '6b', 'a5', '6f'], ['9f', 'a2', 'a8', '59'], ['83', '67', 'f0', 'd8'], ['63', '3b', '77', '63']]\n",
      "Plain_state 10: [['69', '20', '72', '61'], ['20', '64', '6f', '69'], ['20', '6e', '67', '75'], ['6f', '69', '20', '6f']]\n",
      "\n",
      "Giải mã khối 4 :\n",
      "\n",
      "Plain_state 1 : [['0f', '8b', 'a1', '89'], ['67', 'a7', '5b', 'eb'], ['8a', '73', '09', 'd4'], ['87', '6f', 'aa', '47']]\n",
      "Plain_state 2 : [['6f', '78', 'c9', '8c'], ['a5', '89', 'b4', 'e5'], ['79', '15', 'fc', 'c9'], ['d9', '34', '79', '1c']]\n",
      "Plain_state 3 : [['82', 'b7', '92', '27'], ['fa', '0d', 'ce', '7d'], ['c3', 'f3', '8d', '0c'], ['06', '77', 'a2', '9f']]\n",
      "Plain_state 4 : [['f1', 'c5', '7b', 'f7'], ['79', '7e', 'cb', 'a3'], ['a9', 'f3', 'a7', '0c'], ['7b', '2c', 'bc', '6b']]\n",
      "Plain_state 5 : [['4a', '19', '13', '70'], ['e0', '97', '30', 'da'], ['18', '4e', 'c5', '43'], ['d8', '7e', 'fa', 'ff']]\n",
      "Plain_state 6 : [['49', '80', 'fb', '9a'], ['60', '7c', '0f', '20'], ['fa', 'de', '6a', '27'], ['72', '27', 'b2', 'ee']]\n",
      "Plain_state 7 : [['4d', '11', '33', '99'], ['74', '1a', '50', 'f9'], ['9c', '15', 'f3', 'df'], ['6a', '48', 'ca', 'cb']]\n",
      "Plain_state 8 : [['23', '0b', '02', '86'], ['1e', 'b8', '03', '7e'], ['1c', 'de', 'b8', '3e'], ['bc', 'b7', '53', '9d']]\n",
      "Plain_state 9 : [['75', '01', 'eb', '9c'], ['9f', '20', 'cc', '82'], ['76', 'd7', '34', 'fd'], ['84', 'fb', 'f2', '63']]\n",
      "Plain_state 10: [['69', '0a', '4d', '65'], ['20', '68', '69', '65'], ['6e', '20', '72', '75'], ['20', '6e', '68', '75']]\n",
      "\n",
      "Giải mã khối 5 :\n",
      "\n",
      "Plain_state 1 : [['31', '5f', 'ca', '66'], ['52', 'b8', '43', '54'], ['84', '69', '6f', '8b'], ['86', 'f4', '9e', 'aa']]\n",
      "Plain_state 2 : [['cd', '1b', '3f', '55'], ['79', '2b', '53', '1e'], ['6d', '48', '85', 'ff'], ['40', 'dd', '7b', '21']]\n",
      "Plain_state 3 : [['66', '29', 'f5', 'ac'], ['48', 'c5', 'cd', 'c4'], ['8a', 'a6', '35', 'c5'], ['d3', '7d', 'a3', 'a6']]\n",
      "Plain_state 4 : [['12', '24', '7d', 'd6'], ['1f', 'e6', '84', '53'], ['43', '42', 'e9', 'b9'], ['83', '88', 'bc', '7b']]\n",
      "Plain_state 5 : [['de', '8c', 'e4', '02'], ['95', 'a5', '04', '36'], ['b4', '0d', 'c5', '16'], ['19', '2b', '14', '35']]\n",
      "Plain_state 6 : [['c1', 'ae', '8d', '55'], ['c7', '30', 'e4', '47'], ['dd', '75', '24', '33'], ['35', '20', 'a6', 'de']]\n",
      "Plain_state 7 : [['85', '5a', '3f', 'ba'], ['2d', 'f0', '42', 'dd'], ['ec', 'bd', '85', '77'], ['e9', '11', '16', '26']]\n",
      "Plain_state 8 : [['a7', '8a', '9e', '93'], ['0d', 'f1', 'fa', '4a'], ['70', '3f', 'f7', '0e'], ['2a', 'c7', '13', 'c9']]\n",
      "Plain_state 9 : [['07', 'fa', '05', '3b'], ['15', '20', 'ab', 'f0'], ['63', 'f9', '6e', 'eb'], ['6f', 'ab', 'e3', 'a2']]\n",
      "Plain_state 10: [['6e', '67', '20', '63'], ['61', '75', '20', '78'], ['61', '20', '78', '6f'], ['69', '0a', '41', '20']]\n",
      "\n",
      "Giải mã khối 6 :\n",
      "\n",
      "Plain_state 1 : [['14', 'a0', 'f4', 'e0'], ['f5', 'c7', 'e1', '36'], ['8f', 'ba', '70', '33'], ['f7', '5e', '34', 'ee']]\n",
      "Plain_state 2 : [['c9', '09', '79', '98'], ['64', 'fb', 'db', 'f8'], ['a6', '16', '4f', '66'], ['84', '9f', '93', '66']]\n",
      "Plain_state 3 : [['cb', '72', 'b4', 'd3'], ['b2', '8a', '7e', '6a'], ['da', 'fb', 'e1', '20'], ['1b', '29', '2e', '61']]\n",
      "Plain_state 4 : [['14', '7a', 'b0', '7f'], ['42', 'cc', '33', 'ca'], ['1f', '02', '08', '95'], ['2d', 'ab', '71', '79']]\n",
      "Plain_state 5 : [['b3', '91', '21', '98'], ['7f', 'ab', '8f', '5d'], ['2f', '93', '62', '8a'], ['de', '48', '1f', 'b5']]\n",
      "Plain_state 6 : [['94', '31', 'b9', 'a6'], ['2b', 'b4', '71', '40'], ['ab', 'c9', 'ed', '41'], ['ad', 'f9', '7f', '4e']]\n",
      "Plain_state 7 : [['ea', 'd9', 'a8', '57'], ['18', '02', 'cc', '0e'], ['b5', '8d', 'ec', '3b'], ['bc', '2d', '8c', '93']]\n",
      "Plain_state 8 : [['d6', 'b2', 'a9', 'd2'], ['4a', 'e6', '2e', 'e7'], ['67', 'b5', '35', '36'], ['57', '50', '6e', '7f']]\n",
      "Plain_state 9 : [['9a', '83', 'a5', 'f2'], ['aa', 'a2', 'a8', 'a4'], ['f2', '47', '67', 'd8'], ['a4', '3b', 'd4', 'fc']]\n",
      "Plain_state 10: [['61', '20', '6f', '69'], ['2c', '20', '74', '69'], ['65', '6e', '67', '20'], ['72', '75', '20', '6d']]\n",
      "\n",
      "Giải mã khối 7 :\n",
      "\n",
      "Plain_state 1 : [['3f', '6f', '49', '40'], ['93', 'fe', '00', 'c7'], ['27', '31', '49', '42'], ['61', '52', '39', 'ba']]\n",
      "Plain_state 2 : [['fe', 'f2', '90', 'b7'], ['8f', 'b9', 'e3', '9e'], ['da', '69', '0b', '15'], ['ac', 'e4', '17', 'c1']]\n",
      "Plain_state 3 : [['f7', '29', '59', 'b5'], ['e0', '72', 'a9', 'f5'], ['ee', '1f', '33', '12'], ['1a', '2d', 'df', '7b']]\n",
      "Plain_state 4 : [['66', 'b3', 'fb', 'ef'], ['28', '17', 'ea', '2f'], ['a9', '0e', 'fa', 'e7'], ['67', 'b3', 'c8', '7b']]\n",
      "Plain_state 5 : [['39', '06', 'a3', 'ff'], ['b1', '39', '18', 'f8'], ['87', 'ab', 'ec', '7b'], ['26', 'f9', 'e5', '9c']]\n",
      "Plain_state 6 : [['c5', '34', '19', 'bb'], ['f2', '9e', '46', '9d'], ['fe', 'fe', '7c', '87'], ['c7', 'dc', '7b', '4e']]\n",
      "Plain_state 7 : [['c1', 'b0', 'af', '5d'], ['44', '4e', '11', 'b0'], ['ce', '60', '5c', '53'], ['b6', 'e7', '70', '17']]\n"
     ]
    },
    {
     "name": "stdout",
     "output_type": "stream",
     "text": [
      "Plain_state 8 : [['db', '9b', 'a0', 'dc'], ['a5', 'e3', '6c', 'dd'], ['05', '6d', '7b', 'f1'], ['54', '09', 'df', '22']]\n",
      "Plain_state 9 : [['26', 'ab', 'a2', '3b'], ['e5', 'f3', '34', '20'], ['7f', 'd7', '2b', '02'], ['67', '6f', 'f2', '9c']]\n",
      "Plain_state 10: [['75', '6f', '6e', '20'], ['64', '6f', '69', '2e'], ['0a', '0a', '54', '69'], ['65', '6e', '67', '20']]\n",
      "\n",
      "Giải mã khối 8 :\n",
      "\n",
      "Plain_state 1 : [['31', 'a9', 'ce', 'f1'], ['1f', 'b0', 'fb', '18'], ['c1', '8c', '65', '3a'], ['19', '10', 'cd', 'ca']]\n",
      "Plain_state 2 : [['ee', '73', 'd7', '43'], ['2b', '50', 'c0', '27'], ['28', 'd6', '5a', '81'], ['d7', '74', 'd0', '0d']]\n",
      "Plain_state 3 : [['7d', 'c9', '13', '5e'], ['a2', '78', '3b', '85'], ['4a', 'e8', 'af', '4b'], ['b1', '02', 'bf', '80']]\n",
      "Plain_state 4 : [['eb', '06', 'b5', '51'], ['a9', '03', 'de', '84'], ['68', '97', '1a', 'eb'], ['37', '92', '26', '43']]\n",
      "Plain_state 5 : [['61', 'cb', '54', '1b'], ['0a', '2a', '21', 'c0'], ['b4', '4e', 'bd', '38'], ['7d', '30', '82', 'b5']]\n",
      "Plain_state 6 : [['74', 'b5', 'c1', '01'], ['49', 'ac', 'bd', 'a8'], ['6c', '63', '15', '41'], ['54', 'ec', '70', '18']]\n",
      "Plain_state 7 : [['ec', '14', 'a8', '3a'], ['a8', '44', 'a3', '7f'], ['c2', '38', '97', 'dc'], ['ec', 'c7', '77', '08']]\n",
      "Plain_state 8 : [['dc', '08', '0f', '8d'], ['ac', '58', '7b', 'e7'], ['8a', '16', 'b4', 'f2'], ['f3', 'd0', '49', '6b']]\n",
      "Plain_state 9 : [['07', '59', '71', 'ab'], ['9f', '20', 'fd', 'f0'], ['e3', '1a', '67', 'd8'], ['7c', '9c', '77', 'a2']]\n",
      "Plain_state 10: [['6e', '75', '6f', '63'], ['20', '74', '6f', '69'], ['2c', '20', '62', '6f'], ['6e', '20', '6e', '67']]\n",
      "\n",
      "Giải mã khối 9 :\n",
      "\n",
      "Plain_state 1 : [['96', 'f4', '35', '43'], ['2a', '09', '82', 'ad'], ['87', 'c7', 'ee', '47'], ['95', 'a9', '3a', '23']]\n",
      "Plain_state 2 : [['fd', '85', '53', 'fb'], ['8f', '66', '89', '39'], ['0a', '3d', '59', 'd7'], ['09', 'bb', 'fa', 'e9']]\n",
      "Plain_state 3 : [['41', '66', 'ad', 'ca'], ['44', 'ed', '21', '94'], ['c0', '5a', '40', '2b'], ['32', 'd5', '50', '5d']]\n",
      "Plain_state 4 : [['39', 'a6', '44', '0f'], ['8d', '7a', 'fa', 'ff'], ['86', 'dc', 'ce', '66'], ['a7', 'df', 'e4', '9a']]\n",
      "Plain_state 5 : [['ac', 'ee', '93', '55'], ['c8', '88', '6f', 'ef'], ['ac', 'e0', '52', '25'], ['a3', '06', 'b3', '42']]\n",
      "Plain_state 6 : [['4d', '36', '47', '19'], ['18', '4f', 'dc', '47'], ['77', '09', '8c', '3c'], ['75', '31', '15', '21']]\n",
      "Plain_state 7 : [['6f', 'd3', '08', '7a'], ['3f', '5b', '43', '1b'], ['8e', '0c', 'a6', '93'], ['c2', '3f', '73', '81']]\n",
      "Plain_state 8 : [['16', '17', 'e7', '4e'], ['75', '67', 'ed', 'd3'], ['eb', '50', '89', '89'], ['bf', '49', '8c', 'ad']]\n",
      "Plain_state 9 : [['9a', 'fe', 'a5', 'c0'], ['15', 'a2', 'a8', 'a2'], ['ab', '77', '6e', '05'], ['a4', 'c5', 'e3', 'fc']]\n",
      "Plain_state 10: [['61', '6e', '20', '6e'], ['61', '6d', '20', '72'], ['6f', '6e', '67', '20'], ['72', '61', '20', '76']]\n",
      "\n",
      "Giải mã khối 10 :\n",
      "\n",
      "Plain_state 1 : [['01', '86', '97', 'e3'], ['61', 'd9', '02', 'a7'], ['38', 'c8', '35', '45'], ['62', '3d', 'f1', 'e6']]\n",
      "Plain_state 2 : [['29', 'c0', '42', 'aa'], ['cf', 'c3', 'ae', '27'], ['0c', '27', 'c0', 'f0'], ['d9', '6a', 'e4', '22']]\n",
      "Plain_state 3 : [['ce', '46', '10', '7f'], ['bb', '8c', 'bb', '64'], ['98', 'bf', 'aa', '67'], ['a0', 'fe', '97', '7d']]\n",
      "Plain_state 4 : [['40', '0f', '8e', 'c3'], ['b8', '04', 'f3', '66'], ['66', 'ed', 'e4', '39'], ['f3', '87', '9c', '44']]\n",
      "Plain_state 5 : [['f0', '65', '3f', 'ee'], ['e1', '3a', '8e', 'bf'], ['e6', 'a1', 'd1', 'fe'], ['29', 'f8', '95', '85']]\n",
      "Plain_state 6 : [['4f', '51', '0b', '45'], ['c1', 'fc', '0a', 'a7'], ['da', 'a3', '9a', 'd1'], ['b0', 'f4', 'e6', '2a']]\n",
      "Plain_state 7 : [['66', '35', '47', 'e1'], ['ce', '06', '37', '98'], ['35', 'ba', '44', 'a5'], ['00', '62', '0a', '43']]\n",
      "Plain_state 8 : [['22', '81', '22', '97'], ['6e', '5a', '34', 'b2'], ['4e', '7d', '83', '9a'], ['33', 'e6', '4c', '7e']]\n",
      "Plain_state 9 : [['26', 'ab', 'fd', '6f'], ['e2', '9c', '80', '47'], ['e5', '63', '6e', '2f'], ['84', '63', '7b', '47']]\n",
      "Plain_state 10: [['75', '69', '20', '62'], ['75', '6f', '6e', '0a'], ['4b', '68', '6f', '63'], ['20', '63', '75', '6f']]\n",
      "\n",
      "Giải mã khối 11 :\n",
      "\n",
      "Plain_state 1 : [['ef', '15', '68', '64'], ['61', 'c8', '22', 'ca'], ['b8', 'bd', 'de', '6f'], ['2e', '64', '2b', 'e3']]\n",
      "Plain_state 2 : [['77', '51', '4c', 'd8'], ['90', 'ed', 'b0', 'f5'], ['0a', '6d', 'bc', 'b2'], ['9f', 'a3', '62', '00']]\n",
      "Plain_state 3 : [['c6', '48', 'a5', '86'], ['8e', '82', '4d', '23'], ['60', 'b0', '85', '90'], ['60', '92', '8e', 'c0']]\n",
      "Plain_state 4 : [['9c', '51', 'b7', '90'], ['7b', 'ff', '06', '00'], ['75', '26', '5f', '90'], ['80', '52', '5e', 'd3']]\n",
      "Plain_state 5 : [['64', '32', '21', '54'], ['a4', '3e', '6f', '41'], ['c5', '4c', '48', 'e1'], ['63', '90', 'd4', 'ac']]\n",
      "Plain_state 6 : [['0f', '4e', '9f', 'eb'], ['d7', '4e', '3e', '8f'], ['35', 'c6', 'fd', '2e'], ['c8', 'a4', 'fa', '7a']]\n",
      "Plain_state 7 : [['46', 'ad', '5c', '60'], ['96', 'a5', '94', 'a5'], ['75', '4a', '7c', 'b5'], ['33', '8d', 'a7', 'ef']]\n",
      "Plain_state 8 : [['04', '10', 'f8', 'e2'], ['bd', '65', '9d', '3e'], ['4f', 'ed', '72', '24'], ['5a', 'e7', '45', '92']]\n",
      "Plain_state 9 : [['75', 'ab', 'f7', '67'], ['f1', 'a2', 'b7', '9c'], ['f2', '47', '82', 'a5'], ['7c', '3b', 'e3', 'fc']]\n",
      "Plain_state 10: [['69', '20', '74', '68'], ['65', '6f', '20', '6d'], ['65', '6e', '68', '20'], ['6e', '75', '6f', '63']]\n",
      "\n",
      "Giải mã khối 12 :\n",
      "\n",
      "Plain_state 1 : [['39', '08', '99', '94'], ['c8', 'a0', '48', 'bd'], ['91', '3a', 'df', 'a3'], ['18', 'e6', '82', '09']]\n",
      "Plain_state 2 : [['30', '5e', '83', 'b2'], ['9f', '9b', 'ff', '57'], ['c6', '30', 'd5', '89'], ['f5', 'de', 'c2', '04']]\n",
      "Plain_state 3 : [['fb', '2d', '4a', 'b6'], ['cd', '7c', '5a', '53'], ['84', 'c9', '40', '69'], ['db', '60', 'cd', 'fa']]\n",
      "Plain_state 4 : [['de', 'f6', '2a', 'df'], ['07', 'a0', 'c2', 'bb'], ['ff', 'de', '06', '0a'], ['94', '78', 'a8', '7c']]\n",
      "Plain_state 5 : [['8c', 'ac', '7b', 'fc'], ['0b', 'f6', 'bd', 'ae'], ['e6', '6d', '56', '98'], ['b1', 'c3', 'fa', '15']]\n",
      "Plain_state 6 : [['bd', 'e2', 'c3', '5b'], ['82', 'be', 'f0', '63'], ['60', '49', '32', '33'], ['ee', '5a', 'ec', '6f']]\n",
      "Plain_state 7 : [['46', 'f9', 'cd', '3b'], ['65', '70', 'b1', '05'], ['50', 'f5', 'cb', 'db'], ['8f', '08', '22', 'b5']]\n",
      "Plain_state 8 : [['73', 'f7', '4f', '89'], ['26', 'a3', 'd9', '8f'], ['4d', '55', '78', 'aa'], ['45', 'd6', '52', 'fd']]\n",
      "Plain_state 9 : [['38', '83', 'aa', '67'], ['9f', 'a4', 'b7', 'a4'], ['ab', '47', '67', '05'], ['7c', 'c5', 'd4', 'fc']]\n",
      "Plain_state 10: [['20', '6e', '6f', '69'], ['20', '20', '74', '72'], ['6f', '69', '2c', '20'], ['6e', '75', '6f', '63']]\n",
      "\n",
      "Giải mã khối 13 :\n",
      "\n",
      "Plain_state 1 : [['c6', 'c9', '27', '5e'], ['70', '23', '22', '36'], ['c2', 'e4', '9c', '6b'], ['08', 'cb', '11', '42']]\n",
      "Plain_state 2 : [['0a', '22', '82', 'df'], ['2b', 'ed', '4c', '6c'], ['16', '06', 'c3', '7a'], ['48', 'ab', 'd5', '66']]\n",
      "Plain_state 3 : [['f9', '15', 'c4', 'df'], ['5e', '8b', 'cd', '9e'], ['b1', '6f', '7d', 'f7'], ['18', '61', '68', '62']]\n",
      "Plain_state 4 : [['5c', '66', '80', 'cb'], ['9a', 'ce', 'cf', '38'], ['6a', 'de', '3f', '1b'], ['23', '3b', 'b7', '78']]\n",
      "Plain_state 5 : [['04', '20', '25', '1d'], ['ce', '07', '67', 'e2'], ['72', 'd1', '91', '96'], ['05', '80', '5f', 'd3']]\n",
      "Plain_state 6 : [['2a', '72', '33', 'f5'], ['9f', 'f1', '82', '88'], ['4d', '26', 'b1', 'b0'], ['df', 'a9', 'fd', '72']]\n",
      "Plain_state 7 : [['06', '5c', 'ab', '71'], ['a8', 'd5', '65', 'db'], ['db', 'a8', '69', '66'], ['ee', '09', '86', 'a6']]\n",
      "Plain_state 8 : [['db', 'f3', 'd0', '6c'], ['44', '95', '12', '09'], ['11', '59', '47', 'ca'], ['e8', '66', '05', 'ca']]\n",
      "Plain_state 9 : [['38', '30', 'b7', 'a4'], ['a2', '20', 'a8', 'f3'], ['6f', '63', 'fe', 'e5'], ['63', '6f', '30', '63']]\n",
      "Plain_state 10: [['20', '6f', '69', '0a'], ['54', '69', '65', '6e'], ['67', '20', '6e', '75'], ['6f', '63', '20', '74']]\n",
      "\n",
      "Giải mã khối 14 :\n",
      "\n",
      "Plain_state 1 : [['83', '69', '72', 'f8'], ['eb', '58', '60', '47'], ['2a', '58', '5d', '4f'], ['66', '24', '40', '53']]\n",
      "Plain_state 2 : [['72', '48', '42', 'd7'], ['e0', 'b6', 'c2', '6e'], ['df', 'df', 'a7', 'da'], ['39', '2b', '1f', 'b9']]\n",
      "Plain_state 3 : [['75', 'fe', 'aa', '29'], ['b5', '69', '57', '5f'], ['03', '6b', '89', '60'], ['ed', 'c0', '58', 'd4']]\n",
      "Plain_state 4 : [['b1', 'c3', '8c', 'a4'], ['7e', '46', '2b', 'c3'], ['27', '01', 'e2', 'a5'], ['61', '25', 'e9', 'e7']]\n",
      "Plain_state 5 : [['a2', 'bd', '2e', '0c'], ['68', 'd1', '5a', '54'], ['32', '5b', '31', '56'], ['e5', 'df', 'df', '83']]\n",
      "Plain_state 6 : [['67', '51', 'bb', 'a8'], ['20', 'a3', '87', '05'], ['57', '71', '6b', '18'], ['ed', '05', '8d', '95']]\n",
      "Plain_state 7 : [['75', '2f', 'd7', 'e1'], ['f1', 'b9', '81', '03'], ['cd', '00', 'df', 'a0'], ['ce', '4f', '41', '57']]\n",
      "Plain_state 8 : [['e2', '9f', '6a', '8a'], ['2f', 'e7', '23', '3c'], ['b4', '1a', '24', '22'], ['e0', '04', '1c', '10']]\n",
      "Plain_state 9 : [['12', '30', '26', 'c5'], ['80', '20', 'f7', '20'], ['6f', 'ca', '3b', 'e5'], ['84', '63', '30', 'ca']]\n",
      "Plain_state 10: [['6f', '69', '2c', '20'], ['74', '69', '65', '6e'], ['67', '20', '6d', '65'], ['20', '73', '69', '6e']]\n",
      "\n",
      "Giải mã khối 15 :\n",
      "\n",
      "Plain_state 1 : [['24', 'd2', 'ac', 'aa'], ['d9', 'ce', '95', '03'], ['4e', 'a2', '15', '5c'], ['ed', '49', '27', '28']]\n",
      "Plain_state 2 : [['83', 'f0', 'e5', 'bd'], ['30', 'f3', 'f4', 'f5'], ['80', '7e', '42', '5a'], ['6f', '2b', '00', '8a']]\n",
      "Plain_state 3 : [['96', '4a', '4d', '8b'], ['eb', '2b', 'bf', '65'], ['87', '47', '30', '6b'], ['1c', '12', '29', '6c']]\n",
      "Plain_state 4 : [['d1', 'e1', 'db', '5f'], ['c0', '41', '1b', '73'], ['a8', 'ed', 'b9', 'eb'], ['44', '4d', '25', '4e']]\n",
      "Plain_state 5 : [['12', 'a5', '9a', 'ec'], ['30', '5f', '4a', 'e8'], ['45', '13', 'cd', 'ce'], ['ef', '96', '7b', 'b6']]\n",
      "Plain_state 6 : [['f0', 'ad', '65', '7f'], ['60', '60', '8b', '28'], ['58', '75', 'e2', '4a'], ['04', 'fe', '22', 'ae']]\n",
      "Plain_state 7 : [['39', '2b', '21', '9e'], ['4e', 'c4', '09', 'ad'], ['39', 'd6', '85', 'ec'], ['ac', '88', 'c4', '27']]\n",
      "Plain_state 8 : [['c6', '89', 'ea', '1c'], ['a1', 'db', '98', '59'], ['37', '34', '38', '8a'], ['37', '4e', '27', '06']]\n",
      "Plain_state 9 : [['b2', 'd7', '15', '63'], ['9f', 'a2', 'b7', '7c'], ['83', 'd7', '82', 'cc'], ['84', '3b', 'ad', 'ad']]\n",
      "Plain_state 10: [['68', '20', '74', '75'], ['20', '6c', '75', '63'], ['20', '6e', '61', '6d'], ['20', '6e', '6f', '69']]\n",
      "\n",
      "Giải mã khối 16 :\n",
      "\n",
      "Plain_state 1 : [['62', '1b', '65', 'ef'], ['f3', '84', '2c', '5d'], ['88', '04', '30', 'ce'], ['8c', 'bc', '75', '33']]\n",
      "Plain_state 2 : [['36', '4e', '3d', 'c0'], ['42', '81', 'd6', '3e'], ['9e', 'fc', '53', 'cb'], ['8e', '54', '67', '16']]\n",
      "Plain_state 3 : [['88', '20', 'ad', '8c'], ['dd', '75', '1f', 'b5'], ['52', '4a', '8c', '94'], ['37', '52', '28', '1b']]\n",
      "Plain_state 4 : [['e6', 'be', '3c', '95'], ['b1', 'a1', '5c', '18'], ['c3', 'e9', '23', '09'], ['bb', 'e8', 'e9', 'e5']]\n",
      "Plain_state 5 : [['3e', '6d', '4d', '84'], ['fe', '0c', 'b3', '2a'], ['c5', '6d', '95', '53'], ['0c', 'b0', '17', '15']]\n",
      "Plain_state 6 : [['8c', '3e', '7e', 'da'], ['94', 'bf', 'a8', '86'], ['24', 'ba', '7f', '0a'], ['f6', '00', '33', 'b9']]\n",
      "Plain_state 7 : [['04', '9b', '06', 'ef'], ['20', 'ff', '9f', 'dd'], ['1a', 'ff', 'ed', '41'], ['e9', 'c8', '8f', 'c0']]\n",
      "Plain_state 8 : [['cf', 'e5', 'f7', 'cc'], ['c0', 'bb', 'f9', 'b8'], ['42', '7f', 'a9', '34'], ['aa', 'ce', '02', 'd8']]\n",
      "Plain_state 9 : [['4a', '59', 'b7', '3b'], ['15', '59', '93', 'af'], ['6f', '77', 'd7', 'e5'], ['7c', '27', 'e3', 'fc']]\n",
      "Plain_state 10: [['0a', '54', '68', '6f'], ['61', '74', '20', '6e'], ['67', '61', '6e', '20'], ['6e', '61', '6d', '20']]\n",
      "\n",
      "Giải mã khối 17 :\n",
      "\n",
      "Plain_state 1 : [['1f', '08', 'ca', '20'], ['9e', '17', '64', '69'], ['3f', '1d', '71', 'ea'], ['21', '99', '2e', 'a5']]\n",
      "Plain_state 2 : [['3f', 'a8', '33', '8d'], ['00', 'ca', '30', '20'], ['9d', 'eb', '67', '72'], ['c2', 'b9', '49', '07']]\n",
      "Plain_state 3 : [['c9', '3d', '5c', 'd9'], ['f3', '54', '08', '39'], ['a0', '19', '3b', '83'], ['e3', 'ac', '77', 'a0']]\n",
      "Plain_state 4 : [['84', '84', 'cc', '6a'], ['88', 'ce', '7a', '4a'], ['6f', '2c', 'dd', 'ef'], ['1e', '46', '5f', '14']]\n",
      "Plain_state 5 : [['c8', '0c', '08', '2f'], ['24', '1b', 'e8', '26'], ['56', '49', 'c4', '66'], ['a7', 'e0', '13', 'bb']]\n",
      "Plain_state 6 : [['3b', 'b5', 'c9', 'fe'], ['71', 'ff', 'de', '4b'], ['3a', 'cc', 'e5', '88'], ['c3', '65', 'ac', 'eb']]\n",
      "Plain_state 7 : [['e8', 'd3', '1e', '55'], ['d7', '0e', '0f', '7b'], ['7a', 'd4', 'ee', 'fb'], ['83', 'a6', 'e6', '2a']]\n",
      "Plain_state 8 : [['7c', 'b8', '75', '2c'], ['d5', '07', '39', 'd4'], ['84', 'ec', 'e2', 'b8'], ['4e', 'eb', '6c', 'a0']]\n",
      "Plain_state 9 : [['93', '83', 'a5', 'ab'], ['f7', 'a2', 'fd', 'a2'], ['f2', 'fe', 'f2', 'd8'], ['7b', '7c', 'd4', 'fc']]\n",
      "Plain_state 10: [['74', '68', '61', '6e'], ['68', '20', '74', '69'], ['65', '6e', '67', '20'], ['6c', '6f', '6e', '67']]\n",
      "\n",
      "Giải mã khối 18 :\n",
      "\n",
      "Plain_state 1 : [['bf', '7c', '30', '71'], ['22', '56', '39', '5a'], ['90', '7a', 'e6', 'fd'], ['20', '1a', '4d', '16']]\n",
      "Plain_state 2 : [['eb', 'fb', 'e6', '21'], ['f8', '0f', 'ac', '48'], ['d8', '79', '0f', '8e'], ['02', '7f', 'ac', '07']]\n",
      "Plain_state 3 : [['56', '8d', '80', 'f2'], ['d0', '96', '04', '9d'], ['bf', 'b8', 'af', '89'], ['df', 'f1', '53', 'd9']]\n",
      "Plain_state 4 : [['62', 'e2', '7f', '0f'], ['65', 'b7', '40', '24'], ['c0', 'af', 'd4', '8e'], ['3d', 'c4', 'fa', 'c8']]\n",
      "Plain_state 5 : [['7b', '76', '28', '18'], ['55', '63', 'b2', '3d'], ['ed', '77', '57', 'c3'], ['e8', '92', '5f', '9d']]\n",
      "Plain_state 6 : [['f8', '8d', 'c9', '99'], ['a4', 'f9', '00', '65'], ['b4', '4a', '38', '29'], ['a3', '20', 'ad', 'a4']]\n",
      "Plain_state 7 : [['1c', '3f', 'c6', 'f9'], ['a7', 'cc', '80', '78'], ['9a', 'd3', 'c8', '6b'], ['a7', 'b0', '4a', 'b6']]\n",
      "Plain_state 8 : [['f7', '1f', '7f', 'd5'], ['50', 'e1', '04', '4d'], ['53', 'c4', 'fa', 'e7'], ['9c', 'a7', 'cd', 'a2']]\n",
      "Plain_state 9 : [['38', '83', '9f', 'fb'], ['aa', 'f0', '6e', 'a4'], ['ab', 'e3', '67', 'c7'], ['6f', 'a4', '7b', 'a2']]\n",
      "Plain_state 10: [['20', '74', '6f', '69'], ['2c', '20', '6e', '75'], ['6f', '63', '20', '6f'], ['69', '2e', '0a', '0a']]\n",
      "\n",
      "Giải mã khối 19 :\n",
      "\n",
      "Plain_state 1 : [['37', '13', '7c', '33'], ['2a', '31', 'dd', '5b'], ['e5', 'bc', 'b7', 'ae'], ['f2', 'de', '0c', '4c']]\n",
      "Plain_state 2 : [['7d', 'a6', '59', '08'], ['2f', '42', '77', 'f0'], ['3c', 'f1', '45', '28'], ['55', '0d', 'a3', '60']]\n",
      "Plain_state 3 : [['54', 'ea', 'eb', '1b'], ['f6', '14', 'f9', '1e'], ['fe', 'fb', '44', '65'], ['d8', '0c', 'a5', 'ba']]\n",
      "Plain_state 4 : [['7e', '28', '7f', '36'], ['39', 'd9', 'd4', '0c'], ['b1', 'a0', 'b1', 'e0'], ['fa', '9d', 'e2', '6c']]\n",
      "Plain_state 5 : [['39', 'd2', '77', '15'], ['6e', '96', 'f7', 'ed'], ['59', 'ff', 'bb', '96'], ['f5', '78', '58', '1a']]\n",
      "Plain_state 6 : [['13', '37', '7c', '6c'], ['50', '21', '8e', 'c3'], ['1c', '4c', '73', '65'], ['ac', '9b', '98', 'e6']]\n",
      "Plain_state 7 : [['12', '53', '1b', 'ef'], ['9a', '64', 'cc', 'dc'], ['0e', 'f4', '80', '7b'], ['38', '97', 'e4', '8f']]\n",
      "Plain_state 8 : [['59', 'b6', '1d', 'ed'], ['94', '8a', 'f2', '2b'], ['3a', '05', '6f', '18'], ['75', 'b4', '2f', '43']]\n",
      "Plain_state 9 : [['77', 'f2', 'f1', 'ab'], ['9a', 'a4', 'fd', '20'], ['59', '1a', 'fe', '43'], ['30', '6f', 'ad', 'af']]\n",
      "Plain_state 10: [['54', '6f', '69', '20'], ['79', '65', '75', '20'], ['74', '69', '65', '6e'], ['67', '20', '6e', '67']]\n",
      "\n",
      "Giải mã khối 20 :\n",
      "\n",
      "Plain_state 1 : [['be', 'c5', 'b2', '4c'], ['c8', '72', 'c6', '06'], ['36', 'e0', 'c2', 'a6'], ['b5', '42', '44', 'd0']]\n",
      "Plain_state 2 : [['68', '3c', 'c7', 'e1'], ['b1', '62', '6b', '8f'], ['4d', '2c', '7d', '80'], ['2a', '3b', '72', 'c3']]\n",
      "Plain_state 3 : [['39', 'e3', '9b', '4e'], ['01', '91', '6f', 'f1'], ['f4', '99', 'dd', '46'], ['52', '56', 'c2', '44']]\n",
      "Plain_state 4 : [['fd', 'b0', '33', '72'], ['57', '24', 'e7', '20'], ['06', '1e', '42', '09'], ['0d', '12', 'db', '4f']]\n",
      "Plain_state 5 : [['05', '61', '7f', '00'], ['73', '23', '7a', '1f'], ['47', 'dc', '6e', 'e9'], ['f3', 'ee', 'bf', 'b7']]\n",
      "Plain_state 6 : [['c7', '39', '52', '8e'], ['0a', 'b2', '86', '1b'], ['da', '62', 'c3', '33'], ['07', 'ec', 'a3', '00']]\n",
      "Plain_state 7 : [['bd', '76', '9d', 'f0'], ['48', '8f', '9c', 'da'], ['11', 'b1', '42', 'f6'], ['f4', '74', '80', 'c4']]\n",
      "Plain_state 8 : [['22', '48', '79', '92'], ['87', '12', '77', 'd8'], ['9e', '64', 'cc', '7f'], ['20', '9b', '57', '2c']]\n",
      "Plain_state 9 : [['9a', '7d', 'f7', '67'], ['80', '80', 'a8', '20'], ['7f', 'f2', '77', 'd8'], ['7c', 'c5', '77', '63']]\n",
      "Plain_state 10: [['61', '6e', '67', '20'], ['74', '72', '6f', '69'], ['0a', '4e', '68', '75'], ['6e', '67', '20', '63']]\n",
      "\n",
      "Giải mã khối 21 :\n",
      "\n",
      "Plain_state 1 : [['bd', 'c0', '5c', '5b'], ['3d', 'c5', '7b', 'b9'], ['39', 'bf', 'f6', '72'], ['37', '12', '2a', '92']]\n",
      "Plain_state 2 : [['68', 'd6', '9e', '0a'], ['90', 'b6', 'ac', '57'], ['b9', 'e8', 'a2', '84'], ['ef', '5c', 'fc', '15']]\n",
      "Plain_state 3 : [['d2', 'd7', 'e5', 'a1'], ['45', '76', '09', 'ed'], ['cb', '24', '95', '12'], ['43', 'f1', 'b7', '15']]\n"
     ]
    },
    {
     "name": "stdout",
     "output_type": "stream",
     "text": [
      "Plain_state 4 : [['38', 'dd', 'f9', 'ba'], ['b5', '0e', 'fc', 'fb'], ['89', '3f', 'ba', '74'], ['bb', 'd0', 'e3', '71']]\n",
      "Plain_state 5 : [['a6', '32', 'a3', '23'], ['24', '69', '3d', '20'], ['64', '03', '20', 'cc'], ['81', '53', 'ca', 'f7']]\n",
      "Plain_state 6 : [['86', '7b', '82', 'e9'], ['0f', '9d', 'be', '71'], ['08', 'bc', '31', '9d'], ['ae', '94', '36', 'bb']]\n",
      "Plain_state 7 : [['e9', '8d', 'da', 'e4'], ['64', 'ba', '31', '28'], ['1b', 'e1', '22', 'b7'], ['ac', '2c', '7f', 'e5']]\n",
      "Plain_state 8 : [['e6', 'd1', '49', 'a7'], ['74', '1b', '05', '14'], ['81', 'f6', '12', '95'], ['b1', '5c', 'be', 'be']]\n",
      "Plain_state 9 : [['9a', '83', '9f', '77'], ['fd', 'a2', 'a8', '9c'], ['63', 'd7', '6e', 'd8'], ['63', '9c', '67', 'a4']]\n",
      "Plain_state 10: [['61', '75', '20', '68'], ['6f', '20', '67', '69'], ['61', '6e', '20', '68'], ['6f', '6e', '20', '6b']]\n",
      "\n",
      "Giải mã khối 22 :\n",
      "\n",
      "Plain_state 1 : [['4c', '0a', '44', 'fc'], ['c3', '46', '80', '9f'], ['81', '90', '04', '61'], ['3e', 'cc', '6e', 'a2']]\n",
      "Plain_state 2 : [['53', 'd6', '72', '00'], ['19', 'a3', '69', '1c'], ['92', '33', '56', '9a'], ['0c', 'e2', '31', 'bf']]\n",
      "Plain_state 3 : [['c9', 'd1', 'ed', '32'], ['39', 'b8', '20', '6d'], ['b0', 'e6', 'e1', '62'], ['89', 'db', '2a', '99']]\n",
      "Plain_state 4 : [['85', '32', '8c', 'e9'], ['48', 'b0', '17', '1b'], ['1a', '75', 'd0', '58'], ['67', 'e4', 'a4', '5f']]\n",
      "Plain_state 5 : [['4e', '07', '4a', '4f'], ['30', '21', '30', 'db'], ['de', 'e9', 'ff', 'e8'], ['85', 'a9', 'c6', '12']]\n",
      "Plain_state 6 : [['5e', '40', 'ec', '12'], ['47', '2c', '91', 'a8'], ['cb', '48', 'ae', '88'], ['ee', '77', 'ce', '0b']]\n",
      "Plain_state 7 : [['70', 'ce', '7c', 'ef'], ['4f', 'a9', '48', 'df'], ['af', 'e0', 'a4', 'a7'], ['4f', '77', '08', '85']]\n",
      "Plain_state 8 : [['ff', '2d', '1f', 'e7'], ['1b', '51', 'd6', 'd9'], ['f0', '9f', '7b', 'fa'], ['4f', '6a', '18', '9d']]\n",
      "Plain_state 9 : [['b2', '6f', '63', '7c'], ['b7', 'f3', 'fd', '20'], ['30', '1a', '2b', 'f1'], ['63', '6f', 'ad', 'a4']]\n",
      "Plain_state 10: [['68', '6f', '6e', '20'], ['6e', '67', '75', '6f'], ['69', '0a', '4e', '68'], ['6f', '20', '6e', '68']]\n",
      "\n",
      "Giải mã khối 23 :\n",
      "\n",
      "Plain_state 1 : [['4c', '67', '22', '83'], ['d4', 'e2', '33', '77'], ['17', 'c1', 'bc', 'bd'], ['af', '1f', '63', '2e']]\n",
      "Plain_state 2 : [['79', '8d', '9b', '50'], ['98', '1e', '3a', 'a0'], ['46', 'b9', '7a', '96'], ['6a', '3b', '48', 'b0']]\n",
      "Plain_state 3 : [['ac', 'fc', '67', 'fa'], ['13', '84', '48', '79'], ['6a', '62', '2e', '79'], ['2e', '4d', '2a', 'b4']]\n",
      "Plain_state 4 : [['5b', '6c', '33', 'ab'], ['32', 'f7', '1d', 'f5'], ['2a', '89', '33', '60'], ['c6', '20', '00', 'c4']]\n",
      "Plain_state 5 : [['6f', '51', 'b8', '35'], ['b1', '21', '4a', 'cd'], ['41', '94', '17', '74'], ['05', 'dc', 'b1', '2c']]\n",
      "Plain_state 6 : [['3a', 'fb', '20', '70'], ['e5', '3f', 'ed', 'e0'], ['92', '63', 'fc', '71'], ['75', 'a8', 'd4', '17']]\n",
      "Plain_state 7 : [['7d', 'e1', '49', '8e'], ['76', 'a3', '7e', 'b9'], ['1b', 'd7', 'f9', 'fd'], ['1b', '68', 'cd', '6f']]\n",
      "Plain_state 8 : [['51', '03', 'ea', 'e4'], ['37', 'ab', '54', '8b'], ['c0', 'b6', '0b', 'ce'], ['bc', '57', '3c', 'd5']]\n",
      "Plain_state 9 : [['26', 'ab', '15', '63'], ['f7', 'd4', 'e2', '20'], ['83', '1a', '77', 'd8'], ['c5', 'c5', 'fe', 'af']]\n",
      "Plain_state 10: [['75', '6e', '67', '20'], ['68', '6f', '61', '69'], ['20', '6d', '61', '6e'], ['68', '20', '74', '69']]\n",
      "\n",
      "Giải mã khối 24 :\n",
      "\n",
      "Plain_state 1 : [['b7', '05', '6a', '09'], ['51', 'c5', '2c', '0b'], ['9a', '32', 'cb', '15'], ['b1', 'b3', '92', '73']]\n",
      "Plain_state 2 : [['f8', '52', 'c6', '13'], ['ae', '66', '8c', '9b'], ['72', 'c9', '2a', '8e'], ['4e', 'ac', '2d', '72']]\n",
      "Plain_state 3 : [['41', 'd8', 'b8', 'c6'], ['44', 'f8', 'd7', '90'], ['c9', 'eb', 'c6', 'ca'], ['67', '1a', 'f2', 'e9']]\n",
      "Plain_state 4 : [['95', '45', '39', '0f'], ['58', '83', '46', 'e2'], ['51', 'c6', '20', '1e'], ['31', 'e2', '4f', 'ea']]\n",
      "Plain_state 5 : [['5b', 'fa', '89', '70'], ['a6', '09', '55', '7b'], ['76', '8c', 'fb', '3b'], ['ff', '18', '3a', 'f6']]\n",
      "Plain_state 6 : [['0b', '3f', '9d', 'a9'], ['e8', '3d', '9c', '1e'], ['07', 'df', '96', '02'], ['c6', '15', '4e', '67']]\n",
      "Plain_state 7 : [['19', '0e', 'db', 'c2'], ['fb', '3f', '24', 'bf'], ['2f', 'f8', '3c', '6d'], ['fb', '16', 'e4', 'e7']]\n",
      "Plain_state 8 : [['96', 'b6', 'd3', '11'], ['60', '92', '94', 'c2'], ['a3', '88', 'e4', 'af'], ['ac', '08', '6e', '61']]\n",
      "Plain_state 9 : [['07', '83', 'ad', 'a4'], ['15', 'f3', 'a8', 'fe'], ['30', 'f2', '6e', 'f1'], ['7c', '7c', '59', '63']]\n",
      "Plain_state 10: [['6e', '68', '20', '78'], ['61', '20', '78', '6f'], ['69', '0a', '56', '75'], ['6e', '67', '20', '74']]\n",
      "\n",
      "Giải mã khối 25 :\n",
      "\n",
      "Plain_state 1 : [['a3', '14', '2f', '01'], ['80', 'e3', '09', '02'], ['6a', '98', '2a', '55'], ['44', '94', '74', 'de']]\n",
      "Plain_state 2 : [['bd', 'f2', '8f', '7a'], ['e3', '65', '18', 'da'], ['93', '7f', 'f2', '21'], ['84', '07', '9e', '78']]\n",
      "Plain_state 3 : [['ea', '6e', 'cf', '11'], ['98', '30', 'd3', '87'], ['a6', '3c', '51', 'dd'], ['ff', '8f', 'a1', 'cc']]\n",
      "Plain_state 4 : [['c2', '44', 'f1', '29'], ['6d', '03', 'a2', '93'], ['26', '77', '2b', 'e4'], ['8a', '6c', '70', '46']]\n",
      "Plain_state 5 : [['a0', '1e', 'b3', '95'], ['f1', '00', 'a1', 'd7'], ['64', '79', 'f9', '4a'], ['58', '19', 'dc', 'a7']]\n",
      "Plain_state 6 : [['95', 'b1', '5e', 'd4'], ['e5', '5a', '20', 'ff'], ['b7', '4d', 'f2', '33'], ['14', 'b1', '99', 'db']]\n",
      "Plain_state 7 : [['60', 'a8', '65', '4c'], ['ba', 'cb', '77', '8b'], ['f4', '9b', '5c', '1d'], ['eb', '38', '80', '8d']]\n",
      "Plain_state 8 : [['b2', '31', 'ed', 'eb'], ['9a', 'b8', '86', 'e2'], ['8d', '11', '58', '0b'], ['a1', 'a2', '96', '39']]\n",
      "Plain_state 9 : [['75', 'ab', 'a5', '3b'], ['15', 'a2', '75', '77'], ['ab', '6f', '6e', 'a5'], ['2b', 'c5', 'e3', 'fc']]\n",
      "Plain_state 10: [['69', '6e', '20', '76'], ['61', '6f', '20', '6d'], ['6f', '6e', '67', '20'], ['64', '65', '70', '20']]\n",
      "\n",
      "Giải mã khối 26 :\n",
      "\n",
      "Plain_state 1 : [['4b', 'e6', 'ec', '69'], ['9d', '64', 'ce', '30'], ['b1', 'af', '19', '84'], ['96', 'e8', 'a9', '6d']]\n",
      "Plain_state 2 : [['63', '68', '3a', '60'], ['69', '7f', '47', 'eb'], ['67', '6d', '9f', '87'], ['8c', '57', '9f', '2a']]\n",
      "Plain_state 3 : [['c8', '3a', '4c', 'e7'], ['62', '53', 'c5', '72'], ['25', '5a', 'df', 'cc'], ['c9', '44', 'da', '22']]\n",
      "Plain_state 4 : [['17', '39', '82', '66'], ['8f', 'd1', '0f', 'c5'], ['54', 'c5', '9b', '7a'], ['42', 'ab', '10', '90']]\n",
      "Plain_state 5 : [['2a', 'e9', '4b', '4f'], ['65', 'ef', '06', 'a9'], ['80', 'b7', '25', 'd2'], ['30', 'f5', 'e8', '55']]\n",
      "Plain_state 6 : [['1f', '0a', 'd9', '58'], ['9a', 'aa', '52', 'ef'], ['af', '31', '17', 'd4'], ['b6', '30', '46', '95']]\n",
      "Plain_state 7 : [['27', 'ac', '92', '5f'], ['80', '14', 'c6', '29'], ['2d', '94', '6c', 'ae'], ['b6', 'ce', 'dc', '88']]\n",
      "Plain_state 8 : [['02', '57', 'a0', 'da'], ['4e', '00', 'f6', '08'], ['c8', '62', '47', '4b'], ['96', '87', '8d', '66']]\n",
      "Plain_state 9 : [['07', 'fe', '1b', 'ca'], ['9f', 'f3', 'a8', 'd7'], ['84', 'f0', 'f2', 'd8'], ['63', 'ab', 'fe', '07']]\n",
      "Plain_state 10: [['6e', '67', '61', '79'], ['20', '6d', '61', '69'], ['2e', '0a', '0a', '4d'], ['6f', '74', '20', '79']]\n",
      "\n",
      "Giải mã khối 27 :\n",
      "\n",
      "Plain_state 1 : [['53', 'e9', '17', 'e1'], ['69', 'e0', '88', 'a6'], ['5b', '67', '7e', '01'], ['11', '26', 'bf', '05']]\n",
      "Plain_state 2 : [['7e', 'e7', 'd8', 'ae'], ['2e', '16', 'dd', 'd5'], ['93', '38', '2d', '38'], ['42', 'c9', '97', 'ca']]\n",
      "Plain_state 3 : [['2f', 'c4', '0b', 'e6'], ['37', 'b9', '72', '6d'], ['b5', 'cd', '9f', '3d'], ['a2', '8d', '0c', '64']]\n",
      "Plain_state 4 : [['22', '94', '10', '8d'], ['3c', '05', '96', '5f'], ['7e', 'd2', 'e2', '7e'], ['e7', '9c', '9b', '1b']]\n",
      "Plain_state 5 : [['f9', 'ff', 'fa', '6a'], ['33', '10', 'd8', 'df'], ['1f', '86', 'e5', '13'], ['5f', 'c5', '3a', '4f']]\n",
      "Plain_state 6 : [['77', '36', 'dd', '34'], ['77', '31', 'a2', 'b2'], ['1c', '0b', '1b', '1a'], ['73', '45', 'e3', 'b2']]\n",
      "Plain_state 7 : [['09', 'eb', 'dc', '4d'], ['a9', 'a0', '75', '3a'], ['79', '1e', '93', 'a3'], ['35', 'cb', '3f', '8f']]\n",
      "Plain_state 8 : [['6e', 'e0', '48', '55'], ['46', 'f6', '01', '63'], ['dc', '9e', 'ee', '80'], ['72', '97', '44', 'ec']]\n",
      "Plain_state 9 : [['c3', 'fa', '9f', 'fe'], ['15', '63', '05', 'f0'], ['63', '47', '6e', '71'], ['a4', '9c', 'e3', 'fd']]\n",
      "Plain_state 10: [['65', '75', '20', '63'], ['61', '75', '20', '68'], ['61', '74', '20', '54'], ['72', '75', '79', '65']]\n",
      "\n",
      "Giải mã khối 28 :\n",
      "\n",
      "Plain_state 1 : [['db', '0d', '75', '57'], ['89', '38', 'da', 'ce'], ['1f', '08', 'ba', '2d'], ['7e', 'e3', 'b3', 'a9']]\n",
      "Plain_state 2 : [['42', '4e', 'fe', 'df'], ['d2', 'be', '0c', '12'], ['cd', 'b3', 'b1', '02'], ['fd', '95', 'ba', '0f']]\n",
      "Plain_state 3 : [['19', '2b', '30', 'e7'], ['97', 'eb', 'f6', 'f8'], ['dc', 'a7', 'f4', '98'], ['da', 'db', '16', 'a3']]\n",
      "Plain_state 4 : [['57', '8d', 'ab', '37'], ['8b', '2e', '35', 'c3'], ['e6', '40', '2c', '77'], ['46', 'a2', '41', 'ba']]\n",
      "Plain_state 5 : [['21', '2f', '02', '1c'], ['94', '81', '1c', '45'], ['ea', '08', 'e5', '14'], ['ed', 'd0', 'c9', 'd4']]\n",
      "Plain_state 6 : [['e4', '11', 'a3', '0c'], ['8e', '74', '5c', 'eb'], ['70', '5d', 'a9', 'fa'], ['bc', '6b', '8b', 'fa']]\n",
      "Plain_state 7 : [['f0', 'ad', '1a', '04'], ['82', '97', 'cc', '68'], ['4f', '08', 'cd', 'bf'], ['13', '70', 'a8', '75']]\n",
      "Plain_state 8 : [['1d', '18', '9c', '23'], ['71', 'af', '40', '01'], ['cb', '20', 'd2', '76'], ['52', '27', 'a7', 'df']]\n",
      "Plain_state 9 : [['07', 'fa', 'a5', 'cc'], ['f1', 'a2', '6e', 'a4'], ['63', 'fe', '31', '34'], ['7b', '3b', 'e3', 'fc']]\n"
     ]
    },
    {
     "name": "stdout",
     "output_type": "stream",
     "text": [
      "Plain_state 10: [['6e', '20', '4b', '69'], ['65', '75', '20', '6c'], ['61', '6e', '67', '20'], ['6c', '6f', '0a', '4e']]\n",
      "\n",
      "Giải mã khối 29 :\n",
      "\n",
      "Plain_state 1 : [['b4', 'cd', '18', '16'], ['ad', '71', 'ef', '1b'], ['3e', '21', 'fa', '3b'], ['ed', '5a', '93', '7f']]\n",
      "Plain_state 2 : [['f8', '1f', '95', '71'], ['46', 'b9', '9d', '53'], ['50', '26', '08', '24'], ['1b', '7d', 'd8', '40']]\n",
      "Plain_state 3 : [['e8', '30', '6d', '79'], ['63', '4b', '65', '84'], ['9e', '1d', '71', 'a0'], ['26', 'fb', '0f', '5c']]\n",
      "Plain_state 4 : [['ed', '08', 'de', 'ff'], ['2f', '89', '5e', '8c'], ['3b', 'bd', 'bf', '15'], ['41', '3a', '83', '9c']]\n",
      "Plain_state 5 : [['64', '2e', 'f0', 'ee'], ['1a', '8a', '95', '56'], ['6e', '7c', 'd2', '10'], ['7a', '9b', 'd2', '47']]\n",
      "Plain_state 6 : [['31', '25', '39', '8c'], ['bd', '5d', 'fb', 'f5'], ['f7', '02', '12', '4b'], ['b1', 'a8', 'c9', '12']]\n",
      "Plain_state 7 : [['cb', 'dc', '71', '0a'], ['32', 'e0', '97', 'fa'], ['ec', '57', 'c5', 'fd'], ['80', '0e', '29', '65']]\n",
      "Plain_state 8 : [['96', 'e7', '84', '62'], ['32', 'f3', '11', '82'], ['13', '7d', 'df', '26'], ['ee', 'ef', 'c2', '22']]\n",
      "Plain_state 9 : [['b2', 'f2', '15', 'fe'], ['cc', 'c5', 'f7', '63'], ['83', 'c5', '6e', '26'], ['84', '9c', '7b', 'a2']]\n",
      "Plain_state 10: [['68', '75', '20', '74'], ['69', '65', '6e', '67'], ['20', '73', '61', '6f'], ['20', '64', '69', '65']]\n",
      "\n",
      "Giải mã khối 30 :\n",
      "\n",
      "Plain_state 1 : [['4d', '07', 'e6', 'c2'], ['a5', 'd1', 'f6', '98'], ['1b', '8e', 'f4', 'b5'], ['b6', '11', 'fe', '27']]\n",
      "Plain_state 2 : [['1d', 'de', '61', 'af'], ['c5', '7d', '79', 'cc'], ['ef', '3e', '1d', 'e9'], ['df', '68', '2f', '31']]\n",
      "Plain_state 3 : [['e6', '40', 'bc', '1b'], ['3d', '8b', '10', '89'], ['34', '1f', '60', 'f5'], ['83', '03', 'a8', '12']]\n",
      "Plain_state 4 : [['59', '30', 'e4', 'c3'], ['ea', 'cc', '2e', '29'], ['1a', 'a7', 'f9', 'c8'], ['f9', 'c1', '21', '21']]\n",
      "Plain_state 5 : [['c9', '77', 'b6', '44'], ['ed', '0f', '7a', '2d'], ['97', '34', '1c', 'e5'], ['fc', '74', '0a', '33']]\n",
      "Plain_state 6 : [['0a', 'e3', 'af', 'a3'], ['bc', '79', '80', 'f0'], ['b1', '72', '35', 'b0'], ['e9', 'cf', 'ee', 'c4']]\n",
      "Plain_state 7 : [['46', 'c2', 'eb', '3e'], ['ee', '48', '6c', 'f4'], ['34', '07', '70', '63'], ['90', '40', 'ff', 'fc']]\n",
      "Plain_state 8 : [['32', '7f', '0c', 'cb'], ['a3', '3f', 'af', '72'], ['ca', '8e', 'f1', '04'], ['a5', 'd7', '1a', '88']]\n",
      "Plain_state 9 : [['26', 'f2', 'b7', 'fb'], ['cc', '59', '31', 'ca'], ['d7', 'f0', '6e', '43'], ['84', '6e', 'ad', 'c9']]\n",
      "Plain_state 10: [['75', '2c', '20', '64'], ['69', '65', '75', '20'], ['6c', '61', '6e', '67'], ['20', '74', '61', '0a']]\n",
      "\n",
      "Giải mã khối 31 :\n",
      "\n",
      "Plain_state 1 : [['07', '13', '79', '22'], ['a7', 'c7', '41', '59'], ['53', '32', '09', 'b7'], ['01', '31', 'c7', '74']]\n",
      "Plain_state 2 : [['c8', '8c', '32', 'e6'], ['34', 'ce', 'a4', '86'], ['7b', '0b', '6e', 'e2'], ['b4', '1c', '50', '74']]\n",
      "Plain_state 3 : [['0b', 'f2', 'dd', '19'], ['ee', 'f3', 'b7', '34'], ['1b', '9b', '54', '6a'], ['cd', 'ee', '09', '2a']]\n",
      "Plain_state 4 : [['18', '2c', '98', '72'], ['ad', '1e', '9c', '6a'], ['1f', 'f6', 'b8', '1c'], ['5c', '6c', 'f1', '8d']]\n",
      "Plain_state 5 : [['c9', '36', '39', '29'], ['90', '7b', '77', 'e5'], ['19', '56', 'c7', '17'], ['19', 'b5', '38', '46']]\n",
      "Plain_state 6 : [['0d', 'f9', '27', '0b'], ['cb', '97', 'ca', 'b8'], ['af', '71', '5c', 'eb'], ['f1', 'a9', 'ec', '87']]\n",
      "Plain_state 7 : [['e0', 'b7', 'f5', 'b8'], ['54', 'd0', '48', '2d'], ['20', '2e', '49', '44'], ['be', '8f', '55', '80']]\n",
      "Plain_state 8 : [['36', 'ee', '5e', '01'], ['92', 'd4', '85', '78'], ['2c', '53', 'e3', 'c1'], ['21', '7f', '1e', 'b0']]\n",
      "Plain_state 9 : [['63', 'fa', 'a5', 'fe'], ['f1', '20', 'd8', 'd7'], ['ab', '1a', '6e', 'cc'], ['6f', '30', 'e3', 'fa']]\n",
      "Plain_state 10: [['56', '61', '20', '79'], ['65', '75', '20', '63'], ['6f', '20', '67', '61'], ['69', '20', '62', '65']]\n",
      "\n",
      "Giải mã khối 32 :\n",
      "\n",
      "Plain_state 1 : [['90', '10', '52', '72'], ['67', '26', '35', 'c8'], ['e4', '59', 'a6', 'de'], ['7d', '84', '83', '5f']]\n",
      "Plain_state 2 : [['90', 'd8', '86', 'b0'], ['e2', '6a', 'f8', '19'], ['79', 'd8', 'ff', 'e7'], ['28', '4c', 'fd', '10']]\n",
      "Plain_state 3 : [['19', '1d', '63', '8e'], ['51', '1e', '46', '9f'], ['ff', 'bf', 'dc', 'f1'], ['86', '2e', '4a', '8c']]\n",
      "Plain_state 4 : [['20', '31', '1a', 'b7'], ['51', '4b', '2d', '2e'], ['9e', '2a', 'cd', '36'], ['41', '94', '33', '3a']]\n",
      "Plain_state 5 : [['1d', 'e7', 'f0', '5b'], ['f2', 'c5', '79', '9e'], ['57', '76', '2b', '13'], ['12', 'f6', '19', 'eb']]\n",
      "Plain_state 6 : [['80', '57', '52', '5a'], ['84', 'cb', '02', '98'], ['34', '5c', 'b4', '0d'], ['54', 'd3', '26', '25']]\n",
      "Plain_state 7 : [['ee', '30', 'd4', 'de'], ['3d', '6e', '18', '60'], ['80', '13', 'd0', 'f2'], ['12', 'ec', 'b0', '55']]\n",
      "Plain_state 8 : [['2d', '5a', '76', 'e1'], ['20', 'ef', 'd1', '68'], ['f7', '26', 'c7', 'b9'], ['82', 'de', 'ad', 'c5']]\n",
      "Plain_state 9 : [['07', '7f', 'a5', '7c'], ['15', 'a2', 'fd', '9c'], ['f2', '67', '2b', 'd8'], ['f0', '3b', 'b7', 'fc']]\n",
      "Plain_state 10: [['6e', '20', '6e', '68'], ['61', '0a', '4d', '69'], ['65', '6e', '67', '20'], ['78', '69', '6e', '68']]\n",
      "\n",
      "Giải mã khối 33 :\n",
      "\n",
      "Plain_state 1 : [['f4', '46', '43', '3b'], ['50', '0e', 'ef', 'a1'], ['90', 'd6', '37', '80'], ['87', 'bd', '72', '9a']]\n",
      "Plain_state 2 : [['b1', 'b3', 'd5', '30'], ['f1', '7e', '24', 'b9'], ['6f', '7d', '5b', 'a3'], ['ae', 'd1', 'a8', '17']]\n",
      "Plain_state 3 : [['83', '7e', '6e', 'c9'], ['be', 'f2', '1e', '3d'], ['6d', '44', '47', 'ea'], ['39', '88', '43', '41']]\n",
      "Plain_state 4 : [['93', '4c', '0e', '96'], ['f3', 'c6', '2a', 'd0'], ['3f', '06', '3b', '23'], ['1f', '13', '7b', 'db']]\n",
      "Plain_state 5 : [['1b', '68', 'bb', 'e0'], ['cf', '6b', '33', '49'], ['59', '2e', 'fb', 'cd'], ['d0', '70', '75', 'ba']]\n",
      "Plain_state 6 : [['47', 'f9', '62', '8c'], ['c2', 'd4', 'eb', '87'], ['a0', '04', 'ad', '00'], ['ce', '7d', '61', 'fd']]\n",
      "Plain_state 7 : [['66', 'ca', '2e', '16'], ['7c', '7b', '59', '7b'], ['fb', 'f8', '79', 'e4'], ['68', '1d', '41', '49']]\n",
      "Plain_state 8 : [['4e', '08', '06', 'eb'], ['5c', 'f6', '5b', 'bb'], ['2a', 'ff', '9a', '6c'], ['4a', 'ef', '4f', '31']]\n",
      "Plain_state 9 : [['38', 'ab', 'b7', '3b'], ['b7', '59', 'fb', '20'], ['fe', '77', '2b', '43'], ['77', '30', 'f2', 'fc']]\n",
      "Plain_state 10: [['20', '61', '6e', '20'], ['6e', '6f', '69', '20'], ['6d', '61', '6e', '20'], ['6d', '61', '2c', '20']]\n",
      "\n",
      "Giải mã khối 34 :\n",
      "\n",
      "Plain_state 1 : [['52', '47', '87', '4b'], ['6d', 'a6', 'd3', '53'], ['41', 'd0', '3f', '2b'], ['fb', '7d', 'b3', '3d']]\n",
      "Plain_state 2 : [['5e', 'd2', '6b', '1a'], ['14', '11', '21', '03'], ['5c', 'ca', '14', '26'], ['ba', '71', '3a', 'df']]\n",
      "Plain_state 3 : [['da', '54', 'd8', '78'], ['31', '6f', 'da', 'f0'], ['93', '10', '88', '9f'], ['f5', 'e5', 'e1', 'a9']]\n",
      "Plain_state 4 : [['4e', '22', '44', 'f4'], ['98', '06', '15', '16'], ['39', '9c', 'b7', '87'], ['04', 'd5', 'e8', '03']]\n",
      "Plain_state 5 : [['c0', 'be', '37', '34'], ['fe', 'a2', 'd9', '1d'], ['9c', 'b5', '1f', '70'], ['52', 'f5', '58', 'e7']]\n",
      "Plain_state 6 : [['5b', '5c', 'd1', 'a8'], ['53', 'ce', 'cd', 'e5'], ['eb', '7b', 'f7', '44'], ['b7', 'b8', 'd7', 'c5']]\n",
      "Plain_state 7 : [['d6', '94', '8d', '6d'], ['c8', '7f', 'ae', '0b'], ['41', '86', 'e6', 'ed'], ['fc', 'cb', '06', '90']]\n",
      "Plain_state 8 : [['81', '0d', 'a3', '5d'], ['65', 'f8', '5a', '6a'], ['a0', 'ab', '8b', '15'], ['7c', 'af', '80', 'f0']]\n",
      "Plain_state 9 : [['e2', '83', 'b7', 'cb'], ['fd', '82', 'd2', 'f0'], ['ad', 'ed', '6e', 'c7'], ['cf', '30', '01', '39']]\n",
      "Plain_state 10: [['6d', '61', '20', '63'], ['6f', '20', '64', '75'], ['79', '65', '6e', '2e'], ['30', '30', '30', '30']]\n"
     ]
    }
   ],
   "source": [
    "List_plain_text = []\n",
    "for i in range(len(List_cipher_text)):\n",
    "    print('\\nGiải mã khối',i+1,':\\n')\n",
    "    List_plain_text.append(AES.decrypt(List_cipher_text[i]))"
   ]
  },
  {
   "cell_type": "code",
   "execution_count": 45,
   "metadata": {},
   "outputs": [
    {
     "name": "stdout",
     "output_type": "stream",
     "text": [
      "PlainText 1 : 546f6920796575207469656e67206e75\n",
      "PlainText 2 : 6f6320746f690a5475206b6869206d6f\n",
      "PlainText 3 : 6920726120646f69206e67756f69206f\n",
      "PlainText 4 : 690a4d65206869656e207275206e6875\n",
      "PlainText 5 : 6e672063617520786120786f690a4120\n",
      "PlainText 6 : 61206f692c207469656e67207275206d\n",
      "PlainText 7 : 756f6e20646f692e0a0a5469656e6720\n",
      "PlainText 8 : 6e756f6320746f692c20626f6e206e67\n",
      "PlainText 9 : 616e206e616d20726f6e672072612076\n",
      "PlainText 10 : 75692062756f6e0a4b686f632063756f\n",
      "PlainText 11 : 69207468656f206d656e68206e756f63\n",
      "PlainText 12 : 206e6f69202074726f692c206e756f63\n",
      "PlainText 13 : 206f690a5469656e67206e756f632074\n",
      "PlainText 14 : 6f692c207469656e67206d652073696e\n",
      "PlainText 15 : 68207475206c7563206e616d206e6f69\n",
      "PlainText 16 : 0a54686f6174206e67616e206e616d20\n",
      "PlainText 17 : 7468616e68207469656e67206c6f6e67\n",
      "PlainText 18 : 20746f692c206e756f63206f692e0a0a\n",
      "PlainText 19 : 546f6920796575207469656e67206e67\n",
      "PlainText 20 : 616e672074726f690a4e68756e672063\n",
      "PlainText 21 : 617520686f206769616e20686f6e206b\n",
      "PlainText 22 : 686f6e206e67756f690a4e686f206e68\n",
      "PlainText 23 : 756e6720686f6169206d616e68207469\n",
      "PlainText 24 : 6e6820786120786f690a56756e672074\n",
      "PlainText 25 : 696e2076616f206d6f6e672064657020\n",
      "PlainText 26 : 6e676179206d61692e0a0a4d6f742079\n",
      "PlainText 27 : 65752063617520686174205472757965\n",
      "PlainText 28 : 6e204b696575206c616e67206c6f0a4e\n",
      "PlainText 29 : 6875207469656e672073616f20646965\n",
      "PlainText 30 : 752c2064696575206c616e672074610a\n",
      "PlainText 31 : 56612079657520636f20676169206265\n",
      "PlainText 32 : 6e206e68610a4d69656e672078696e68\n",
      "PlainText 33 : 20616e206e6f69206d616e206d612c20\n",
      "PlainText 34 : 6d6120636f20647579656e2e30303030\n"
     ]
    }
   ],
   "source": [
    "#in plaintext giải mã được dưới dạng hex\n",
    "for i in range(len(List_plain_text)): \n",
    "    print('PlainText',i+1,':',hex(List_plain_text[i])[2:].zfill(32))"
   ]
  },
  {
   "cell_type": "code",
   "execution_count": 46,
   "metadata": {},
   "outputs": [
    {
     "name": "stdout",
     "output_type": "stream",
     "text": [
      "Toi yeu tieng nuoc toi\n",
      "Tu khi moi ra doi nguoi oi\n",
      "Me hien ru nhung cau xa xoi\n",
      "A a oi, tieng ru muon doi.\n",
      "\n",
      "Tieng nuoc toi, bon ngan nam rong ra vui buon\n",
      "Khoc cuoi theo menh nuoc noi  troi, nuoc oi\n",
      "Tieng nuoc toi, tieng me sinh tu luc nam noi\n",
      "Thoat ngan nam thanh tieng long toi, nuoc oi.\n",
      "\n",
      "Toi yeu tieng ngang troi\n",
      "Nhung cau ho gian hon khon nguoi\n",
      "Nho nhung hoai manh tinh xa xoi\n",
      "Vung tin vao mong dep ngay mai.\n",
      "\n",
      "Mot yeu cau hat Truyen Kieu lang lo\n",
      "Nhu tieng sao dieu, dieu lang ta\n",
      "Va yeu co gai ben nha\n",
      "Mieng xinh an noi man ma, ma co duyen.0000\n"
     ]
    }
   ],
   "source": [
    "Plaintext=''\n",
    "for i in range(len(List_plain_text)):\n",
    "    Plaintext += bytes.fromhex(hex(List_plain_text[i])[2:].zfill(32)).decode(\"utf-8\")\n",
    "print(Plaintext)"
   ]
  },
  {
   "cell_type": "code",
   "execution_count": 47,
   "metadata": {},
   "outputs": [],
   "source": [
    "#bytes.fromhex(hex(text_hex)[2:]).decode(\"utf-8\")\n",
    "#print(hex(text_hex)[2:])"
   ]
  }
 ],
 "metadata": {
  "kernelspec": {
   "display_name": "Python 3",
   "language": "python",
   "name": "python3"
  },
  "language_info": {
   "codemirror_mode": {
    "name": "ipython",
    "version": 3
   },
   "file_extension": ".py",
   "mimetype": "text/x-python",
   "name": "python",
   "nbconvert_exporter": "python",
   "pygments_lexer": "ipython3",
   "version": "3.7.4"
  }
 },
 "nbformat": 4,
 "nbformat_minor": 2
}
